{
 "cells": [
  {
   "cell_type": "markdown",
   "metadata": {},
   "source": [
    "**<h1>CASO 4</h1>**"
   ]
  },
  {
   "cell_type": "markdown",
   "metadata": {},
   "source": [
    "![especificaciones](huch.jpeg)\n"
   ]
  },
  {
   "cell_type": "code",
   "execution_count": 71,
   "metadata": {},
   "outputs": [],
   "source": [
    "import pandas as pd\n",
    "from sklearn.datasets import load_iris\n",
    "\n",
    "irisdata = load_iris(as_frame=True)\n",
    "\n",
    "# Convierte irisdata.data en un DataFrame\n",
    "dfiris = pd.DataFrame(irisdata.data, columns=irisdata.feature_names)\n",
    "\n",
    "# Ahora, dfiris es un DataFrame de pandas que contiene los datos de California Housing\n",
    "dfiris.head()\n",
    "\n",
    "df = irisdata.frame"
   ]
  },
  {
   "cell_type": "code",
   "execution_count": 72,
   "metadata": {},
   "outputs": [
    {
     "data": {
      "text/html": [
       "<div>\n",
       "<style scoped>\n",
       "    .dataframe tbody tr th:only-of-type {\n",
       "        vertical-align: middle;\n",
       "    }\n",
       "\n",
       "    .dataframe tbody tr th {\n",
       "        vertical-align: top;\n",
       "    }\n",
       "\n",
       "    .dataframe thead th {\n",
       "        text-align: right;\n",
       "    }\n",
       "</style>\n",
       "<table border=\"1\" class=\"dataframe\">\n",
       "  <thead>\n",
       "    <tr style=\"text-align: right;\">\n",
       "      <th></th>\n",
       "      <th>sepal length (cm)</th>\n",
       "      <th>sepal width (cm)</th>\n",
       "      <th>petal length (cm)</th>\n",
       "      <th>petal width (cm)</th>\n",
       "      <th>target</th>\n",
       "    </tr>\n",
       "  </thead>\n",
       "  <tbody>\n",
       "    <tr>\n",
       "      <th>0</th>\n",
       "      <td>5.1</td>\n",
       "      <td>3.5</td>\n",
       "      <td>1.4</td>\n",
       "      <td>0.2</td>\n",
       "      <td>0</td>\n",
       "    </tr>\n",
       "    <tr>\n",
       "      <th>1</th>\n",
       "      <td>4.9</td>\n",
       "      <td>3.0</td>\n",
       "      <td>1.4</td>\n",
       "      <td>0.2</td>\n",
       "      <td>0</td>\n",
       "    </tr>\n",
       "    <tr>\n",
       "      <th>2</th>\n",
       "      <td>4.7</td>\n",
       "      <td>3.2</td>\n",
       "      <td>1.3</td>\n",
       "      <td>0.2</td>\n",
       "      <td>0</td>\n",
       "    </tr>\n",
       "    <tr>\n",
       "      <th>3</th>\n",
       "      <td>4.6</td>\n",
       "      <td>3.1</td>\n",
       "      <td>1.5</td>\n",
       "      <td>0.2</td>\n",
       "      <td>0</td>\n",
       "    </tr>\n",
       "    <tr>\n",
       "      <th>4</th>\n",
       "      <td>5.0</td>\n",
       "      <td>3.6</td>\n",
       "      <td>1.4</td>\n",
       "      <td>0.2</td>\n",
       "      <td>0</td>\n",
       "    </tr>\n",
       "    <tr>\n",
       "      <th>...</th>\n",
       "      <td>...</td>\n",
       "      <td>...</td>\n",
       "      <td>...</td>\n",
       "      <td>...</td>\n",
       "      <td>...</td>\n",
       "    </tr>\n",
       "    <tr>\n",
       "      <th>145</th>\n",
       "      <td>6.7</td>\n",
       "      <td>3.0</td>\n",
       "      <td>5.2</td>\n",
       "      <td>2.3</td>\n",
       "      <td>2</td>\n",
       "    </tr>\n",
       "    <tr>\n",
       "      <th>146</th>\n",
       "      <td>6.3</td>\n",
       "      <td>2.5</td>\n",
       "      <td>5.0</td>\n",
       "      <td>1.9</td>\n",
       "      <td>2</td>\n",
       "    </tr>\n",
       "    <tr>\n",
       "      <th>147</th>\n",
       "      <td>6.5</td>\n",
       "      <td>3.0</td>\n",
       "      <td>5.2</td>\n",
       "      <td>2.0</td>\n",
       "      <td>2</td>\n",
       "    </tr>\n",
       "    <tr>\n",
       "      <th>148</th>\n",
       "      <td>6.2</td>\n",
       "      <td>3.4</td>\n",
       "      <td>5.4</td>\n",
       "      <td>2.3</td>\n",
       "      <td>2</td>\n",
       "    </tr>\n",
       "    <tr>\n",
       "      <th>149</th>\n",
       "      <td>5.9</td>\n",
       "      <td>3.0</td>\n",
       "      <td>5.1</td>\n",
       "      <td>1.8</td>\n",
       "      <td>2</td>\n",
       "    </tr>\n",
       "  </tbody>\n",
       "</table>\n",
       "<p>150 rows × 5 columns</p>\n",
       "</div>"
      ],
      "text/plain": [
       "     sepal length (cm)  sepal width (cm)  petal length (cm)  petal width (cm)  \\\n",
       "0                  5.1               3.5                1.4               0.2   \n",
       "1                  4.9               3.0                1.4               0.2   \n",
       "2                  4.7               3.2                1.3               0.2   \n",
       "3                  4.6               3.1                1.5               0.2   \n",
       "4                  5.0               3.6                1.4               0.2   \n",
       "..                 ...               ...                ...               ...   \n",
       "145                6.7               3.0                5.2               2.3   \n",
       "146                6.3               2.5                5.0               1.9   \n",
       "147                6.5               3.0                5.2               2.0   \n",
       "148                6.2               3.4                5.4               2.3   \n",
       "149                5.9               3.0                5.1               1.8   \n",
       "\n",
       "     target  \n",
       "0         0  \n",
       "1         0  \n",
       "2         0  \n",
       "3         0  \n",
       "4         0  \n",
       "..      ...  \n",
       "145       2  \n",
       "146       2  \n",
       "147       2  \n",
       "148       2  \n",
       "149       2  \n",
       "\n",
       "[150 rows x 5 columns]"
      ]
     },
     "execution_count": 72,
     "metadata": {},
     "output_type": "execute_result"
    }
   ],
   "source": [
    "df"
   ]
  },
  {
   "cell_type": "code",
   "execution_count": 73,
   "metadata": {},
   "outputs": [
    {
     "name": "stdout",
     "output_type": "stream",
     "text": [
      "Index(['sepal_length_(cm)', 'sepal_width_(cm)', 'petal_length_(cm)',\n",
      "       'petal_width_(cm)', 'target'],\n",
      "      dtype='object')\n"
     ]
    }
   ],
   "source": [
    "# Renombra las columnas con guiones bajos en lugar de espacios\n",
    "df.columns = df.columns.str.replace(' ', '_')\n",
    "\n",
    "# Verifica los nombres de las columnas\n",
    "print(df.columns)"
   ]
  },
  {
   "cell_type": "code",
   "execution_count": 74,
   "metadata": {},
   "outputs": [
    {
     "data": {
      "text/plain": [
       "0      3\n",
       "1      2\n",
       "2      2\n",
       "3      2\n",
       "4      3\n",
       "      ..\n",
       "145    2\n",
       "146    1\n",
       "147    2\n",
       "148    3\n",
       "149    2\n",
       "Name: sepal_width_cat, Length: 150, dtype: category\n",
       "Categories (3, int64): [1 < 2 < 3]"
      ]
     },
     "execution_count": 74,
     "metadata": {},
     "output_type": "execute_result"
    }
   ],
   "source": [
    "# Vamos a crear los bins de datos para transformar nuestros valores continuos en categorías:\n",
    "df[\"sepal_width_cat\"] = pd.qcut(df[\"sepal_width_(cm)\"], 3, retbins=False, labels=[1, 2, 3])\n",
    "df[\"sepal_width_cat\"]"
   ]
  },
  {
   "cell_type": "code",
   "execution_count": 60,
   "metadata": {},
   "outputs": [
    {
     "data": {
      "text/plain": [
       "0      1\n",
       "1      1\n",
       "2      1\n",
       "3      1\n",
       "4      1\n",
       "      ..\n",
       "145    3\n",
       "146    2\n",
       "147    3\n",
       "148    2\n",
       "149    2\n",
       "Name: sepal_length_cat, Length: 150, dtype: category\n",
       "Categories (3, int64): [1 < 2 < 3]"
      ]
     },
     "execution_count": 60,
     "metadata": {},
     "output_type": "execute_result"
    }
   ],
   "source": [
    "# Vamos a crear los bins de datos para transformar nuestros valores continuos en categorías:\n",
    "df[\"sepal_length_cat\"] = pd.qcut(df[\"sepal_length_(cm)\"], 3, retbins=False, labels=[1, 2, 3])\n",
    "df[\"sepal_length_cat\"]"
   ]
  },
  {
   "cell_type": "code",
   "execution_count": 61,
   "metadata": {},
   "outputs": [],
   "source": [
    "y = df['sepal_width_cat']\n",
    "X = df.drop([ 'sepal_width_(cm)','sepal_width_cat'], axis = 1)"
   ]
  },
  {
   "cell_type": "code",
   "execution_count": 62,
   "metadata": {},
   "outputs": [],
   "source": [
    "from sklearn.model_selection import train_test_split\n",
    "\n",
    "SEED = 42\n",
    "X_train, X_test, y_train, y_test = train_test_split(X, y, test_size=0.25, random_state=SEED)"
   ]
  },
  {
   "cell_type": "code",
   "execution_count": 63,
   "metadata": {},
   "outputs": [],
   "source": [
    "# Escalado de características para la clasificación\n",
    "from sklearn.preprocessing import StandardScaler\n",
    "\n",
    "scaler = StandardScaler()\n",
    "scaler.fit(X_train)\n",
    "\n",
    "X_train = scaler.transform(X_train)\n",
    "X_test = scaler.transform(X_test)"
   ]
  },
  {
   "cell_type": "code",
   "execution_count": 64,
   "metadata": {},
   "outputs": [
    {
     "data": {
      "text/plain": [
       "array([[-1.01827123, -1.39338902, -1.3621769 , -1.2725257 , -1.15801628],\n",
       "       [-0.7730102 , -1.33550342, -1.49647603, -1.2725257 , -1.15801628],\n",
       "       [-0.03722712,  0.74837808,  0.92090833,  1.20613306,  0.12612059],\n",
       "       [ 0.20803391,  0.4010645 ,  0.51801093, -0.03319632,  0.12612059],\n",
       "       [ 1.06644751,  0.51683569,  0.3837118 , -0.03319632,  1.41025745],\n",
       "       [-0.52774918, -1.45127462, -1.09357864, -1.2725257 , -1.15801628],\n",
       "       [-0.52774918, -1.33550342, -1.3621769 , -1.2725257 , -1.15801628],\n",
       "       [-0.40511866, -0.06202028, -0.28778385, -0.03319632,  0.12612059],\n",
       "       [ 0.57592545,  0.74837808,  0.3837118 ,  1.20613306,  0.12612059],\n",
       "       [ 0.69855596,  0.97992047,  0.7866092 ,  1.20613306,  1.41025745],\n",
       "       [ 0.94381699,  0.3431789 ,  0.24941267, -0.03319632,  1.41025745],\n",
       "       [ 1.67960008,  1.32723405,  1.72670311,  1.20613306,  1.41025745],\n",
       "       [-0.15985763,  0.2274077 ,  0.11511354, -0.03319632,  0.12612059],\n",
       "       [ 2.17012213,  1.61666204,  1.18950659,  1.20613306,  1.41025745],\n",
       "       [-0.28248815,  0.4010645 ,  0.3837118 , -0.03319632,  0.12612059],\n",
       "       [-0.89564072, -1.39338902, -1.3621769 , -1.2725257 , -1.15801628],\n",
       "       [ 2.29275265,  1.67454764,  1.05520746,  1.20613306,  1.41025745],\n",
       "       [-0.03722712,  0.16952211, -0.28778385, -0.03319632,  0.12612059],\n",
       "       [-0.7730102 , -1.39338902, -1.3621769 , -1.2725257 , -1.15801628],\n",
       "       [-1.01827123, -1.45127462, -1.22787777, -1.2725257 , -1.15801628],\n",
       "       [-0.89564072, -1.10396103, -1.09357864, -1.2725257 , -1.15801628],\n",
       "       [-1.01827123, -0.17779148, -0.28778385, -0.03319632, -1.15801628],\n",
       "       [ 0.57592545,  0.63260689,  0.7866092 ,  1.20613306,  0.12612059],\n",
       "       [-1.26353226, -1.10396103, -1.3621769 , -1.2725257 , -1.15801628],\n",
       "       [-1.01827123, -1.27761783, -1.3621769 , -1.2725257 , -1.15801628],\n",
       "       [-0.89564072, -1.21973223, -0.95927951, -1.2725257 , -1.15801628],\n",
       "       [-0.28248815,  0.2274077 ,  0.11511354, -0.03319632,  0.12612059],\n",
       "       [-0.89564072, -1.33550342, -1.3621769 , -1.2725257 , -1.15801628],\n",
       "       [-0.15985763,  0.2274077 , -0.01918559, -0.03319632,  0.12612059],\n",
       "       [ 2.29275265,  1.67454764,  1.32380572,  1.20613306,  1.41025745],\n",
       "       [-1.50879329, -1.39338902, -1.3621769 , -1.2725257 , -1.15801628],\n",
       "       [ 0.45329494,  0.2852933 ,  0.11511354, -0.03319632,  0.12612059],\n",
       "       [-0.15985763,  0.69049248,  1.05520746,  1.20613306,  0.12612059],\n",
       "       [-0.40511866, -1.39338902, -1.3621769 , -1.2725257 ,  0.12612059],\n",
       "       [ 0.20803391,  0.57472129,  0.7866092 ,  1.20613306,  0.12612059],\n",
       "       [-0.03722712,  0.74837808,  0.92090833,  1.20613306,  0.12612059],\n",
       "       [ 0.20803391,  0.11163651, -0.28778385, -0.03319632,  0.12612059],\n",
       "       [-0.52774918,  0.4010645 ,  0.3837118 , -0.03319632, -1.15801628],\n",
       "       [ 0.45329494,  0.92203487,  1.45810485,  1.20613306,  0.12612059],\n",
       "       [-0.40511866,  0.11163651,  0.11511354, -0.03319632,  0.12612059],\n",
       "       [-0.52774918, -1.21973223, -1.09357864, -1.2725257 , -1.15801628],\n",
       "       [-1.01827123, -0.29356267, -0.28778385, -0.03319632, -1.15801628],\n",
       "       [ 0.69855596,  0.86414927,  0.92090833,  1.20613306,  1.41025745],\n",
       "       [-1.01827123, -1.39338902, -1.3621769 , -1.2725257 , -1.15801628],\n",
       "       [-1.01827123, -1.50916022, -1.3621769 , -1.2725257 , -1.15801628],\n",
       "       [-0.40511866, -0.00413469, -0.15348472, -0.03319632,  0.12612059],\n",
       "       [ 1.06644751,  0.69049248,  0.65231006, -0.03319632,  1.41025745],\n",
       "       [-1.14090175, -1.33550342, -1.3621769 , -1.2725257 , -1.15801628],\n",
       "       [-0.03722712,  0.74837808,  1.59240398,  1.20613306,  0.12612059],\n",
       "       [-1.01827123, -1.33550342, -1.3621769 , -1.2725257 , -1.15801628],\n",
       "       [-1.01827123, -1.27761783, -0.82498038, -1.2725257 , -1.15801628],\n",
       "       [ 0.08540339,  0.57472129,  0.7866092 , -0.03319632,  0.12612059],\n",
       "       [-0.89564072, -0.46721946, -0.15348472, -0.03319632, -1.15801628],\n",
       "       [ 1.31170853,  1.09569166,  1.45810485,  1.20613306,  1.41025745],\n",
       "       [ 0.20803391,  0.74837808,  0.51801093, -0.03319632,  0.12612059],\n",
       "       [ 0.33066442,  1.03780607,  0.24941267,  1.20613306,  0.12612059],\n",
       "       [ 2.29275265,  1.32723405,  1.45810485,  1.20613306,  1.41025745],\n",
       "       [-0.40511866,  0.11163651,  0.11511354, -0.03319632,  0.12612059],\n",
       "       [-1.75405432, -1.39338902, -1.3621769 , -1.2725257 , -1.15801628],\n",
       "       [-1.87668483, -1.56704581, -1.49647603, -1.2725257 , -1.15801628],\n",
       "       [ 0.20803391,  0.69049248,  0.3837118 ,  1.20613306,  0.12612059],\n",
       "       [ 1.67960008,  1.26934846,  0.7866092 ,  1.20613306,  1.41025745],\n",
       "       [-1.50879329, -1.33550342, -1.3621769 , -1.2725257 , -1.15801628],\n",
       "       [-0.89564072, -1.39338902, -1.22787777, -1.2725257 , -1.15801628],\n",
       "       [-1.75405432, -1.45127462, -1.3621769 , -1.2725257 , -1.15801628],\n",
       "       [ 0.57592545,  0.63260689,  0.3837118 , -0.03319632,  0.12612059],\n",
       "       [ 0.57592545,  1.03780607,  1.59240398,  1.20613306,  0.12612059],\n",
       "       [-1.50879329, -1.39338902, -1.22787777, -1.2725257 , -1.15801628],\n",
       "       [ 1.18907802,  0.97992047,  1.18950659,  1.20613306,  1.41025745],\n",
       "       [ 0.57592545,  1.26934846,  1.72670311,  1.20613306,  0.12612059],\n",
       "       [-1.38616278, -1.45127462, -1.3621769 , -1.2725257 , -1.15801628],\n",
       "       [ 0.33066442,  0.51683569,  0.24941267, -0.03319632,  0.12612059],\n",
       "       [ 0.82118648,  0.45895009,  0.3837118 , -0.03319632,  1.41025745],\n",
       "       [ 0.45329494,  0.57472129,  0.7866092 ,  1.20613306,  0.12612059],\n",
       "       [ 1.43433905,  0.51683569,  0.24941267, -0.03319632,  1.41025745],\n",
       "       [ 0.69855596,  0.86414927,  1.45810485,  1.20613306,  1.41025745],\n",
       "       [-0.89564072, -1.27761783, -1.3621769 , -1.2725257 , -1.15801628],\n",
       "       [ 1.31170853,  0.92203487,  1.18950659,  1.20613306,  1.41025745],\n",
       "       [ 0.08540339,  0.2274077 ,  0.3837118 , -0.03319632,  0.12612059],\n",
       "       [ 0.82118648,  0.80626368,  1.05520746,  1.20613306,  1.41025745],\n",
       "       [-0.15985763, -0.17779148, -0.28778385, -0.03319632,  0.12612059],\n",
       "       [-0.7730102 ,  0.05375091,  0.24941267, -0.03319632, -1.15801628],\n",
       "       [ 0.33066442,  0.45895009,  0.24941267, -0.03319632,  0.12612059],\n",
       "       [-1.6314238 , -1.45127462, -1.22787777, -1.2725257 , -1.15801628],\n",
       "       [ 0.94381699,  0.45895009,  0.11511354, -0.03319632,  1.41025745],\n",
       "       [-0.40511866,  0.3431789 , -0.01918559, -0.03319632,  0.12612059],\n",
       "       [-0.65037969, -1.33550342, -1.3621769 , -1.2725257 , -1.15801628],\n",
       "       [-0.28248815,  0.16952211,  0.11511354, -0.03319632,  0.12612059],\n",
       "       [ 1.80223059,  1.44300525,  0.7866092 ,  1.20613306,  1.41025745],\n",
       "       [ 1.06644751,  1.09569166,  1.18950659,  1.20613306,  1.41025745],\n",
       "       [-0.89564072, -1.33550342, -1.09357864, -1.2725257 , -1.15801628],\n",
       "       [-1.14090175, -0.29356267, -0.28778385, -0.03319632, -1.15801628],\n",
       "       [ 1.06644751,  1.09569166,  1.72670311,  1.20613306,  1.41025745],\n",
       "       [ 1.67960008,  1.15357726,  0.51801093,  1.20613306,  1.41025745],\n",
       "       [-1.14090175, -1.39338902, -1.49647603, -1.2725257 , -1.15801628],\n",
       "       [ 1.06644751,  1.03780607,  1.59240398,  1.20613306,  1.41025745],\n",
       "       [-1.14090175, -1.39338902, -1.3621769 , -1.2725257 , -1.15801628],\n",
       "       [ 1.31170853,  0.63260689,  0.3837118 , -0.03319632,  1.41025745],\n",
       "       [ 1.9248611 ,  1.32723405,  0.92090833,  1.20613306,  1.41025745],\n",
       "       [ 0.57592545,  1.03780607,  0.7866092 ,  1.20613306,  0.12612059],\n",
       "       [-0.15985763,  0.16952211,  0.11511354, -0.03319632,  0.12612059],\n",
       "       [ 0.82118648,  0.97992047,  0.7866092 ,  1.20613306,  1.41025745],\n",
       "       [ 0.57592545,  0.3431789 ,  0.11511354, -0.03319632,  0.12612059],\n",
       "       [ 0.69855596,  0.2852933 ,  0.11511354, -0.03319632,  1.41025745],\n",
       "       [-0.28248815,  0.63260689,  1.05520746,  1.20613306,  0.12612059],\n",
       "       [ 0.08540339,  0.74837808,  0.7866092 ,  1.20613306,  0.12612059],\n",
       "       [-0.52774918, -1.21973223, -1.3621769 , -1.2725257 , -1.15801628],\n",
       "       [ 0.33066442,  0.11163651,  0.11511354, -0.03319632,  0.12612059],\n",
       "       [-1.14090175,  0.4010645 ,  0.65231006,  1.20613306, -1.15801628],\n",
       "       [-0.03722712, -1.50916022, -1.3621769 , -1.2725257 ,  0.12612059],\n",
       "       [-0.03722712,  0.11163651, -0.01918559, -0.03319632,  0.12612059],\n",
       "       [ 1.55696956,  1.21146286,  1.18950659,  1.20613306,  1.41025745]])"
      ]
     },
     "execution_count": 64,
     "metadata": {},
     "output_type": "execute_result"
    }
   ],
   "source": [
    "X_train\n"
   ]
  },
  {
   "cell_type": "code",
   "execution_count": 65,
   "metadata": {},
   "outputs": [
    {
     "data": {
      "text/html": [
       "<style>#sk-container-id-4 {color: black;}#sk-container-id-4 pre{padding: 0;}#sk-container-id-4 div.sk-toggleable {background-color: white;}#sk-container-id-4 label.sk-toggleable__label {cursor: pointer;display: block;width: 100%;margin-bottom: 0;padding: 0.3em;box-sizing: border-box;text-align: center;}#sk-container-id-4 label.sk-toggleable__label-arrow:before {content: \"▸\";float: left;margin-right: 0.25em;color: #696969;}#sk-container-id-4 label.sk-toggleable__label-arrow:hover:before {color: black;}#sk-container-id-4 div.sk-estimator:hover label.sk-toggleable__label-arrow:before {color: black;}#sk-container-id-4 div.sk-toggleable__content {max-height: 0;max-width: 0;overflow: hidden;text-align: left;background-color: #f0f8ff;}#sk-container-id-4 div.sk-toggleable__content pre {margin: 0.2em;color: black;border-radius: 0.25em;background-color: #f0f8ff;}#sk-container-id-4 input.sk-toggleable__control:checked~div.sk-toggleable__content {max-height: 200px;max-width: 100%;overflow: auto;}#sk-container-id-4 input.sk-toggleable__control:checked~label.sk-toggleable__label-arrow:before {content: \"▾\";}#sk-container-id-4 div.sk-estimator input.sk-toggleable__control:checked~label.sk-toggleable__label {background-color: #d4ebff;}#sk-container-id-4 div.sk-label input.sk-toggleable__control:checked~label.sk-toggleable__label {background-color: #d4ebff;}#sk-container-id-4 input.sk-hidden--visually {border: 0;clip: rect(1px 1px 1px 1px);clip: rect(1px, 1px, 1px, 1px);height: 1px;margin: -1px;overflow: hidden;padding: 0;position: absolute;width: 1px;}#sk-container-id-4 div.sk-estimator {font-family: monospace;background-color: #f0f8ff;border: 1px dotted black;border-radius: 0.25em;box-sizing: border-box;margin-bottom: 0.5em;}#sk-container-id-4 div.sk-estimator:hover {background-color: #d4ebff;}#sk-container-id-4 div.sk-parallel-item::after {content: \"\";width: 100%;border-bottom: 1px solid gray;flex-grow: 1;}#sk-container-id-4 div.sk-label:hover label.sk-toggleable__label {background-color: #d4ebff;}#sk-container-id-4 div.sk-serial::before {content: \"\";position: absolute;border-left: 1px solid gray;box-sizing: border-box;top: 0;bottom: 0;left: 50%;z-index: 0;}#sk-container-id-4 div.sk-serial {display: flex;flex-direction: column;align-items: center;background-color: white;padding-right: 0.2em;padding-left: 0.2em;position: relative;}#sk-container-id-4 div.sk-item {position: relative;z-index: 1;}#sk-container-id-4 div.sk-parallel {display: flex;align-items: stretch;justify-content: center;background-color: white;position: relative;}#sk-container-id-4 div.sk-item::before, #sk-container-id-4 div.sk-parallel-item::before {content: \"\";position: absolute;border-left: 1px solid gray;box-sizing: border-box;top: 0;bottom: 0;left: 50%;z-index: -1;}#sk-container-id-4 div.sk-parallel-item {display: flex;flex-direction: column;z-index: 1;position: relative;background-color: white;}#sk-container-id-4 div.sk-parallel-item:first-child::after {align-self: flex-end;width: 50%;}#sk-container-id-4 div.sk-parallel-item:last-child::after {align-self: flex-start;width: 50%;}#sk-container-id-4 div.sk-parallel-item:only-child::after {width: 0;}#sk-container-id-4 div.sk-dashed-wrapped {border: 1px dashed gray;margin: 0 0.4em 0.5em 0.4em;box-sizing: border-box;padding-bottom: 0.4em;background-color: white;}#sk-container-id-4 div.sk-label label {font-family: monospace;font-weight: bold;display: inline-block;line-height: 1.2em;}#sk-container-id-4 div.sk-label-container {text-align: center;}#sk-container-id-4 div.sk-container {/* jupyter's `normalize.less` sets `[hidden] { display: none; }` but bootstrap.min.css set `[hidden] { display: none !important; }` so we also need the `!important` here to be able to override the default hidden behavior on the sphinx rendered scikit-learn.org. See: https://github.com/scikit-learn/scikit-learn/issues/21755 */display: inline-block !important;position: relative;}#sk-container-id-4 div.sk-text-repr-fallback {display: none;}</style><div id=\"sk-container-id-4\" class=\"sk-top-container\"><div class=\"sk-text-repr-fallback\"><pre>KNeighborsClassifier()</pre><b>In a Jupyter environment, please rerun this cell to show the HTML representation or trust the notebook. <br />On GitHub, the HTML representation is unable to render, please try loading this page with nbviewer.org.</b></div><div class=\"sk-container\" hidden><div class=\"sk-item\"><div class=\"sk-estimator sk-toggleable\"><input class=\"sk-toggleable__control sk-hidden--visually\" id=\"sk-estimator-id-4\" type=\"checkbox\" checked><label for=\"sk-estimator-id-4\" class=\"sk-toggleable__label sk-toggleable__label-arrow\">KNeighborsClassifier</label><div class=\"sk-toggleable__content\"><pre>KNeighborsClassifier()</pre></div></div></div></div></div>"
      ],
      "text/plain": [
       "KNeighborsClassifier()"
      ]
     },
     "execution_count": 65,
     "metadata": {},
     "output_type": "execute_result"
    }
   ],
   "source": [
    "from sklearn.neighbors import KNeighborsClassifier\n",
    "\n",
    "classifier = KNeighborsClassifier()\n",
    "classifier.fit(X_train, y_train)"
   ]
  },
  {
   "cell_type": "code",
   "execution_count": 66,
   "metadata": {},
   "outputs": [],
   "source": [
    "# Tras ajustar el KNeighborsClassifier, podemos predecir las clases de los datos de prueba:\n",
    "y_pred = classifier.predict(X_test)"
   ]
  },
  {
   "cell_type": "code",
   "execution_count": 67,
   "metadata": {},
   "outputs": [
    {
     "name": "stdout",
     "output_type": "stream",
     "text": [
      "0.7105263157894737\n"
     ]
    }
   ],
   "source": [
    "acc =  classifier.score(X_test, y_test)\n",
    "print(acc) # 0.6191860465116279"
   ]
  },
  {
   "cell_type": "code",
   "execution_count": 68,
   "metadata": {},
   "outputs": [
    {
     "name": "stdout",
     "output_type": "stream",
     "text": [
      "              precision    recall  f1-score   support\n",
      "\n",
      "           1       0.64      0.69      0.67        13\n",
      "           2       0.65      0.79      0.71        14\n",
      "           3       1.00      0.64      0.78        11\n",
      "\n",
      "    accuracy                           0.71        38\n",
      "   macro avg       0.76      0.70      0.72        38\n",
      "weighted avg       0.75      0.71      0.71        38\n",
      "\n"
     ]
    },
    {
     "data": {
      "image/png": "[encoded data removed]",
      "text/plain": [
       "<Figure size 640x480 with 2 Axes>"
      ]
     },
     "metadata": {},
     "output_type": "display_data"
    }
   ],
   "source": [
    "from sklearn.metrics import classification_report, confusion_matrix\n",
    "#importing Seaborn's to use the heatmap \n",
    "import seaborn as sns\n",
    "\n",
    "# Adding classes names for better interpretation\n",
    "classes_names = ['class 1','class 2','class 3']\n",
    "cm = pd.DataFrame(confusion_matrix(y_test, y_pred), \n",
    "                  columns=classes_names, index = classes_names)\n",
    "                  \n",
    "# Seaborn's heatmap to better visualize the confusion matrix\n",
    "sns.heatmap(cm, annot=True, fmt='d');\n",
    "\n",
    "print(classification_report(y_test, y_pred))"
   ]
  },
  {
   "cell_type": "code",
   "execution_count": 70,
   "metadata": {},
   "outputs": [
    {
     "name": "stdout",
     "output_type": "stream",
     "text": [
      "[[5.1 1. ]\n",
      " [4.9 1. ]\n",
      " [4.7 1. ]\n",
      " [4.6 1. ]\n",
      " [5.  1. ]\n",
      " [5.4 1. ]\n",
      " [4.6 1. ]\n",
      " [5.  1. ]\n",
      " [4.4 1. ]\n",
      " [4.9 1. ]\n",
      " [5.4 1. ]\n",
      " [4.8 1. ]\n",
      " [4.8 1. ]\n",
      " [4.3 1. ]\n",
      " [5.8 2. ]\n",
      " [5.7 2. ]\n",
      " [5.4 1. ]\n",
      " [5.1 1. ]\n",
      " [5.7 2. ]\n",
      " [5.1 1. ]\n",
      " [5.4 1. ]\n",
      " [5.1 1. ]\n",
      " [4.6 1. ]\n",
      " [5.1 1. ]\n",
      " [4.8 1. ]\n",
      " [5.  1. ]\n",
      " [5.  1. ]\n",
      " [5.2 1. ]\n",
      " [5.2 1. ]\n",
      " [4.7 1. ]\n",
      " [4.8 1. ]\n",
      " [5.4 1. ]\n",
      " [5.2 1. ]\n",
      " [5.5 2. ]\n",
      " [4.9 1. ]\n",
      " [5.  1. ]\n",
      " [5.5 2. ]\n",
      " [4.9 1. ]\n",
      " [4.4 1. ]\n",
      " [5.1 1. ]\n",
      " [5.  1. ]\n",
      " [4.5 1. ]\n",
      " [4.4 1. ]\n",
      " [5.  1. ]\n",
      " [5.1 1. ]\n",
      " [4.8 1. ]\n",
      " [5.1 1. ]\n",
      " [4.6 1. ]\n",
      " [5.3 1. ]\n",
      " [5.  1. ]\n",
      " [7.  3. ]\n",
      " [6.4 3. ]\n",
      " [6.9 3. ]\n",
      " [5.5 2. ]\n",
      " [6.5 3. ]\n",
      " [5.7 2. ]\n",
      " [6.3 2. ]\n",
      " [4.9 1. ]\n",
      " [6.6 3. ]\n",
      " [5.2 1. ]\n",
      " [5.  1. ]\n",
      " [5.9 2. ]\n",
      " [6.  2. ]\n",
      " [6.1 2. ]\n",
      " [5.6 2. ]\n",
      " [6.7 3. ]\n",
      " [5.6 2. ]\n",
      " [5.8 2. ]\n",
      " [6.2 2. ]\n",
      " [5.6 2. ]\n",
      " [5.9 2. ]\n",
      " [6.1 2. ]\n",
      " [6.3 2. ]\n",
      " [6.1 2. ]\n",
      " [6.4 3. ]\n",
      " [6.6 3. ]\n",
      " [6.8 3. ]\n",
      " [6.7 3. ]\n",
      " [6.  2. ]\n",
      " [5.7 2. ]\n",
      " [5.5 2. ]\n",
      " [5.5 2. ]\n",
      " [5.8 2. ]\n",
      " [6.  2. ]\n",
      " [5.4 1. ]\n",
      " [6.  2. ]\n",
      " [6.7 3. ]\n",
      " [6.3 2. ]\n",
      " [5.6 2. ]\n",
      " [5.5 2. ]\n",
      " [5.5 2. ]\n",
      " [6.1 2. ]\n",
      " [5.8 2. ]\n",
      " [5.  1. ]\n",
      " [5.6 2. ]\n",
      " [5.7 2. ]\n",
      " [5.7 2. ]\n",
      " [6.2 2. ]\n",
      " [5.1 1. ]\n",
      " [5.7 2. ]\n",
      " [6.3 2. ]\n",
      " [5.8 2. ]\n",
      " [7.1 3. ]\n",
      " [6.3 2. ]\n",
      " [6.5 3. ]\n",
      " [7.6 3. ]\n",
      " [4.9 1. ]\n",
      " [7.3 3. ]\n",
      " [6.7 3. ]\n",
      " [7.2 3. ]\n",
      " [6.5 3. ]\n",
      " [6.4 3. ]\n",
      " [6.8 3. ]\n",
      " [5.7 2. ]\n",
      " [5.8 2. ]\n",
      " [6.4 3. ]\n",
      " [6.5 3. ]\n",
      " [7.7 3. ]\n",
      " [7.7 3. ]\n",
      " [6.  2. ]\n",
      " [6.9 3. ]\n",
      " [5.6 2. ]\n",
      " [7.7 3. ]\n",
      " [6.3 2. ]\n",
      " [6.7 3. ]\n",
      " [7.2 3. ]\n",
      " [6.2 2. ]\n",
      " [6.1 2. ]\n",
      " [6.4 3. ]\n",
      " [7.2 3. ]\n",
      " [7.4 3. ]\n",
      " [7.9 3. ]\n",
      " [6.4 3. ]\n",
      " [6.3 2. ]\n",
      " [6.1 2. ]\n",
      " [7.7 3. ]\n",
      " [6.3 2. ]\n",
      " [6.4 3. ]\n",
      " [6.  2. ]\n",
      " [6.9 3. ]\n",
      " [6.7 3. ]\n",
      " [6.9 3. ]\n",
      " [5.8 2. ]\n",
      " [6.8 3. ]\n",
      " [6.7 3. ]\n",
      " [6.7 3. ]\n",
      " [6.3 2. ]\n",
      " [6.5 3. ]\n",
      " [6.2 2. ]\n",
      " [5.9 2. ]]\n",
      "None 0.6\n",
      "0.2 0.56\n"
     ]
    },
    {
     "data": {
      "image/png": "[encoded data removed]",
      "text/plain": [
       "<Figure size 640x480 with 1 Axes>"
      ]
     },
     "metadata": {},
     "output_type": "display_data"
    },
    {
     "data": {
      "image/png": "[encoded data removed]",
      "text/plain": [
       "<Figure size 640x480 with 1 Axes>"
      ]
     },
     "metadata": {},
     "output_type": "display_data"
    }
   ],
   "source": [
    "import matplotlib.pyplot as plt\n",
    "import numpy as np\n",
    "from matplotlib.colors import ListedColormap\n",
    "\n",
    "from sklearn import datasets\n",
    "from sklearn.inspection import DecisionBoundaryDisplay\n",
    "from sklearn.neighbors import NearestCentroid\n",
    "\n",
    "# Suponiendo que X es un DataFrame de pandas\n",
    "X_2d = X[[\"sepal_length_(cm)\",\"sepal_length_cat\"]].to_numpy()\n",
    "y = df['sepal_width_cat']\n",
    "# Ahora X_2d será un arreglo NumPy bidimensional con las dos variables seleccionadas\n",
    "print(X_2d)\n",
    "\n",
    "# Create color maps\n",
    "cmap_light = ListedColormap([\"orange\", \"cyan\", \"cornflowerblue\"])\n",
    "cmap_bold = ListedColormap([\"darkorange\", \"c\", \"darkblue\"])\n",
    "\n",
    "for shrinkage in [None, 0.2]:\n",
    "    # we create an instance of Nearest Centroid Classifier and fit the data.\n",
    "    clf = NearestCentroid(shrink_threshold=shrinkage)\n",
    "    clf.fit(X_2d, y)\n",
    "    y_pred = clf.predict(X_2d)\n",
    "    print(shrinkage, np.mean(y == y_pred))\n",
    "\n",
    "    _, ax = plt.subplots()\n",
    "    DecisionBoundaryDisplay.from_estimator(\n",
    "        clf, X_2d, cmap=cmap_light, ax=ax, response_method=\"predict\"\n",
    "    )\n",
    "\n",
    "    # Plot also the training points\n",
    "    plt.scatter(X_2d[:, 0],X_2d[:, 1], c=y, cmap=cmap_bold, edgecolor=\"k\", s=10)\n",
    "    plt.title(\"3-Class classification (shrink_threshold=%r)\" % shrinkage)\n",
    "    plt.axis(\"tight\")\n",
    "\n",
    "plt.show()\n"
   ]
  }
 ],
 "metadata": {
  "kernelspec": {
   "display_name": "Python 3",
   "language": "python",
   "name": "python3"
  },
  "language_info": {
   "codemirror_mode": {
    "name": "ipython",
    "version": 3
   },
   "file_extension": ".py",
   "mimetype": "text/x-python",
   "name": "python",
   "nbconvert_exporter": "python",
   "pygments_lexer": "ipython3",
   "version": "3.12.0"
  }
 },
 "nbformat": 4,
 "nbformat_minor": 2
}
