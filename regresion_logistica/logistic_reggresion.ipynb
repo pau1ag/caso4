{
 "cells": [
  {
   "cell_type": "markdown",
   "metadata": {},
   "source": [
    "## Importación de paquetes\n",
    "\n",
    "En primer lugar, debe importar Seaborn para visualización, NumPy y Pandas. Además, importar\n",
    "\n",
    "LogisticRegression para ajustar el modelo.\n",
    "confusion_matrix y classification_report para evaluar el modelo.\n",
    "\n",
    "Los pasos para construir una regresión logística incluyen:\n",
    "\n",
    "* Importar los paquetes, clases y funciones.\n",
    "* Cargar los datos.\n",
    "* Análisis exploratorio de datos (AED/EDA).\n",
    "* Transformar los datos si es necesario.\n",
    "* Ajustar el modelo de clasificación.\n",
    "* Evaluar el modelo de rendimiento."
   ]
  },
  {
   "cell_type": "code",
   "execution_count": 1,
   "metadata": {},
   "outputs": [],
   "source": [
    "import numpy as np\n",
    "import pandas as pd\n",
    "import matplotlib.pyplot as plt\n",
    "import seaborn as sns\n",
    "from sklearn.linear_model import LogisticRegression\n",
    "from sklearn.metrics import confusion_matrix, classification_report"
   ]
  },
  {
   "cell_type": "markdown",
   "metadata": {},
   "source": [
    "## Cargar el conjunto de datos\n",
    "\n",
    "Importa el conjunto de datos de Social Network Ads desde Kaggle. Se trata de un archivo CSV con datos que nos ayudarán a construir un modelo de regresión logística para mostrar qué usuarios compraron o no un producto."
   ]
  },
  {
   "cell_type": "code",
   "execution_count": 16,
   "metadata": {},
   "outputs": [
    {
     "data": {
      "text/html": [
       "<div>\n",
       "<style scoped>\n",
       "    .dataframe tbody tr th:only-of-type {\n",
       "        vertical-align: middle;\n",
       "    }\n",
       "\n",
       "    .dataframe tbody tr th {\n",
       "        vertical-align: top;\n",
       "    }\n",
       "\n",
       "    .dataframe thead th {\n",
       "        text-align: right;\n",
       "    }\n",
       "</style>\n",
       "<table border=\"1\" class=\"dataframe\">\n",
       "  <thead>\n",
       "    <tr style=\"text-align: right;\">\n",
       "      <th></th>\n",
       "      <th>User ID</th>\n",
       "      <th>Gender</th>\n",
       "      <th>Age</th>\n",
       "      <th>EstimatedSalary</th>\n",
       "      <th>Purchased</th>\n",
       "    </tr>\n",
       "  </thead>\n",
       "  <tbody>\n",
       "    <tr>\n",
       "      <th>0</th>\n",
       "      <td>15624510</td>\n",
       "      <td>Male</td>\n",
       "      <td>19</td>\n",
       "      <td>19000</td>\n",
       "      <td>0</td>\n",
       "    </tr>\n",
       "    <tr>\n",
       "      <th>1</th>\n",
       "      <td>15810944</td>\n",
       "      <td>Male</td>\n",
       "      <td>35</td>\n",
       "      <td>20000</td>\n",
       "      <td>0</td>\n",
       "    </tr>\n",
       "    <tr>\n",
       "      <th>2</th>\n",
       "      <td>15668575</td>\n",
       "      <td>Female</td>\n",
       "      <td>26</td>\n",
       "      <td>43000</td>\n",
       "      <td>0</td>\n",
       "    </tr>\n",
       "    <tr>\n",
       "      <th>3</th>\n",
       "      <td>15603246</td>\n",
       "      <td>Female</td>\n",
       "      <td>27</td>\n",
       "      <td>57000</td>\n",
       "      <td>0</td>\n",
       "    </tr>\n",
       "    <tr>\n",
       "      <th>4</th>\n",
       "      <td>15804002</td>\n",
       "      <td>Male</td>\n",
       "      <td>19</td>\n",
       "      <td>76000</td>\n",
       "      <td>0</td>\n",
       "    </tr>\n",
       "    <tr>\n",
       "      <th>395</th>\n",
       "      <td>15691863</td>\n",
       "      <td>Female</td>\n",
       "      <td>46</td>\n",
       "      <td>41000</td>\n",
       "      <td>1</td>\n",
       "    </tr>\n",
       "    <tr>\n",
       "      <th>396</th>\n",
       "      <td>15706071</td>\n",
       "      <td>Male</td>\n",
       "      <td>51</td>\n",
       "      <td>23000</td>\n",
       "      <td>1</td>\n",
       "    </tr>\n",
       "    <tr>\n",
       "      <th>397</th>\n",
       "      <td>15654296</td>\n",
       "      <td>Female</td>\n",
       "      <td>50</td>\n",
       "      <td>20000</td>\n",
       "      <td>1</td>\n",
       "    </tr>\n",
       "    <tr>\n",
       "      <th>398</th>\n",
       "      <td>15755018</td>\n",
       "      <td>Male</td>\n",
       "      <td>36</td>\n",
       "      <td>33000</td>\n",
       "      <td>0</td>\n",
       "    </tr>\n",
       "    <tr>\n",
       "      <th>399</th>\n",
       "      <td>15594041</td>\n",
       "      <td>Female</td>\n",
       "      <td>49</td>\n",
       "      <td>36000</td>\n",
       "      <td>1</td>\n",
       "    </tr>\n",
       "  </tbody>\n",
       "</table>\n",
       "</div>"
      ],
      "text/plain": [
       "      User ID  Gender  Age  EstimatedSalary  Purchased\n",
       "0    15624510    Male   19            19000          0\n",
       "1    15810944    Male   35            20000          0\n",
       "2    15668575  Female   26            43000          0\n",
       "3    15603246  Female   27            57000          0\n",
       "4    15804002    Male   19            76000          0\n",
       "395  15691863  Female   46            41000          1\n",
       "396  15706071    Male   51            23000          1\n",
       "397  15654296  Female   50            20000          1\n",
       "398  15755018    Male   36            33000          0\n",
       "399  15594041  Female   49            36000          1"
      ]
     },
     "execution_count": 16,
     "metadata": {},
     "output_type": "execute_result"
    }
   ],
   "source": [
    "social_N_data = pd.read_csv('Social_Network_Ads.csv')\n",
    "pd.concat([social_N_data.head(), social_N_data.tail()])"
   ]
  },
  {
   "cell_type": "markdown",
   "metadata": {},
   "source": [
    "## Exploratory Data Analysis\n",
    "\n",
    "Analizar primero los datos es clave para comprender sus características. Empezaremos por comprobar los valores que faltan."
   ]
  },
  {
   "cell_type": "code",
   "execution_count": 9,
   "metadata": {},
   "outputs": [
    {
     "data": {
      "text/plain": [
       "User ID            False\n",
       "Gender             False\n",
       "Age                False\n",
       "EstimatedSalary    False\n",
       "Purchased          False\n",
       "dtype: bool"
      ]
     },
     "execution_count": 9,
     "metadata": {},
     "output_type": "execute_result"
    }
   ],
   "source": [
    "social_N_data.isnull().any()"
   ]
  },
  {
   "cell_type": "markdown",
   "metadata": {},
   "source": [
    "Compruebe el número total de los que compraron y de los que no compraron:\n",
    "- Cero indica los que no compraron y 1 los que compraron.\n"
   ]
  },
  {
   "cell_type": "code",
   "execution_count": 10,
   "metadata": {},
   "outputs": [
    {
     "data": {
      "text/plain": [
       "<Axes: xlabel='Purchased', ylabel='count'>"
      ]
     },
     "execution_count": 10,
     "metadata": {},
     "output_type": "execute_result"
    },
    {
     "data": {
      "image/png": "[encoded data removed]",
      "text/plain": [
       "<Figure size 640x480 with 1 Axes>"
      ]
     },
     "metadata": {},
     "output_type": "display_data"
    }
   ],
   "source": [
    "sns.countplot(x='Purchased', data=social_N_data)"
   ]
  },
  {
   "cell_type": "markdown",
   "metadata": {},
   "source": [
    "Compruebe cuántos hombres y mujeres han comprado el producto:"
   ]
  },
  {
   "cell_type": "code",
   "execution_count": 11,
   "metadata": {},
   "outputs": [
    {
     "data": {
      "text/plain": [
       "<Axes: xlabel='Purchased', ylabel='count'>"
      ]
     },
     "execution_count": 11,
     "metadata": {},
     "output_type": "execute_result"
    },
    {
     "data": {
      "image/png": "[encoded data removed]",
      "text/plain": [
       "<Figure size 640x480 with 1 Axes>"
      ]
     },
     "metadata": {},
     "output_type": "display_data"
    }
   ],
   "source": [
    "sns.countplot(x='Purchased', hue='Gender', data=social_N_data)\n"
   ]
  },
  {
   "cell_type": "markdown",
   "metadata": {},
   "source": [
    "\n",
    "Del gráfico se deduce que la mayoría de los que no compraron son hombres y la mayoría de los que compraron son mujeres. También podemos comprobar la distribución por edades en el conjunto de datos:"
   ]
  },
  {
   "cell_type": "code",
   "execution_count": 13,
   "metadata": {},
   "outputs": [
    {
     "name": "stderr",
     "output_type": "stream",
     "text": [
      "/usr/local/lib/python3.11/site-packages/seaborn/axisgrid.py:118: UserWarning: The figure layout has changed to tight\n",
      "  self._figure.tight_layout(*args, **kwargs)\n"
     ]
    },
    {
     "data": {
      "text/plain": [
       "<seaborn.axisgrid.FacetGrid at 0x12b309790>"
      ]
     },
     "execution_count": 13,
     "metadata": {},
     "output_type": "execute_result"
    },
    {
     "data": {
      "image/png": "[encoded data removed]",
      "text/plain": [
       "<Figure size 500x500 with 1 Axes>"
      ]
     },
     "metadata": {},
     "output_type": "display_data"
    }
   ],
   "source": [
    "sns.displot(x='Age', data=social_N_data, color='red', kde=True)\n"
   ]
  },
  {
   "cell_type": "code",
   "execution_count": 66,
   "metadata": {},
   "outputs": [
    {
     "name": "stderr",
     "output_type": "stream",
     "text": [
      "/usr/local/lib/python3.11/site-packages/seaborn/axisgrid.py:118: UserWarning: The figure layout has changed to tight\n",
      "  self._figure.tight_layout(*args, **kwargs)\n"
     ]
    },
    {
     "data": {
      "image/png": "[encoded data removed]",
      "text/plain": [
       "<Figure size 500x500 with 1 Axes>"
      ]
     },
     "metadata": {},
     "output_type": "display_data"
    }
   ],
   "source": [
    "sns.catplot(x=\"Purchased\", y=\"Age\", data=social_N_data)\n",
    "plt.show()"
   ]
  },
  {
   "cell_type": "markdown",
   "metadata": {},
   "source": [
    "## Cleaning the data\n",
    "\n",
    "Utilizaremos las columnas Sexo, Edad y Salario estimado del conjunto de datos para la regresión logística. Esto significa que no necesitamos la columna UserID. Por lo tanto, la eliminaremos."
   ]
  },
  {
   "cell_type": "code",
   "execution_count": 17,
   "metadata": {},
   "outputs": [
    {
     "data": {
      "text/html": [
       "<div>\n",
       "<style scoped>\n",
       "    .dataframe tbody tr th:only-of-type {\n",
       "        vertical-align: middle;\n",
       "    }\n",
       "\n",
       "    .dataframe tbody tr th {\n",
       "        vertical-align: top;\n",
       "    }\n",
       "\n",
       "    .dataframe thead th {\n",
       "        text-align: right;\n",
       "    }\n",
       "</style>\n",
       "<table border=\"1\" class=\"dataframe\">\n",
       "  <thead>\n",
       "    <tr style=\"text-align: right;\">\n",
       "      <th></th>\n",
       "      <th>Gender</th>\n",
       "      <th>Age</th>\n",
       "      <th>EstimatedSalary</th>\n",
       "      <th>Purchased</th>\n",
       "    </tr>\n",
       "  </thead>\n",
       "  <tbody>\n",
       "    <tr>\n",
       "      <th>0</th>\n",
       "      <td>Male</td>\n",
       "      <td>19</td>\n",
       "      <td>19000</td>\n",
       "      <td>0</td>\n",
       "    </tr>\n",
       "    <tr>\n",
       "      <th>1</th>\n",
       "      <td>Male</td>\n",
       "      <td>35</td>\n",
       "      <td>20000</td>\n",
       "      <td>0</td>\n",
       "    </tr>\n",
       "    <tr>\n",
       "      <th>2</th>\n",
       "      <td>Female</td>\n",
       "      <td>26</td>\n",
       "      <td>43000</td>\n",
       "      <td>0</td>\n",
       "    </tr>\n",
       "    <tr>\n",
       "      <th>3</th>\n",
       "      <td>Female</td>\n",
       "      <td>27</td>\n",
       "      <td>57000</td>\n",
       "      <td>0</td>\n",
       "    </tr>\n",
       "    <tr>\n",
       "      <th>4</th>\n",
       "      <td>Male</td>\n",
       "      <td>19</td>\n",
       "      <td>76000</td>\n",
       "      <td>0</td>\n",
       "    </tr>\n",
       "    <tr>\n",
       "      <th>...</th>\n",
       "      <td>...</td>\n",
       "      <td>...</td>\n",
       "      <td>...</td>\n",
       "      <td>...</td>\n",
       "    </tr>\n",
       "    <tr>\n",
       "      <th>395</th>\n",
       "      <td>Female</td>\n",
       "      <td>46</td>\n",
       "      <td>41000</td>\n",
       "      <td>1</td>\n",
       "    </tr>\n",
       "    <tr>\n",
       "      <th>396</th>\n",
       "      <td>Male</td>\n",
       "      <td>51</td>\n",
       "      <td>23000</td>\n",
       "      <td>1</td>\n",
       "    </tr>\n",
       "    <tr>\n",
       "      <th>397</th>\n",
       "      <td>Female</td>\n",
       "      <td>50</td>\n",
       "      <td>20000</td>\n",
       "      <td>1</td>\n",
       "    </tr>\n",
       "    <tr>\n",
       "      <th>398</th>\n",
       "      <td>Male</td>\n",
       "      <td>36</td>\n",
       "      <td>33000</td>\n",
       "      <td>0</td>\n",
       "    </tr>\n",
       "    <tr>\n",
       "      <th>399</th>\n",
       "      <td>Female</td>\n",
       "      <td>49</td>\n",
       "      <td>36000</td>\n",
       "      <td>1</td>\n",
       "    </tr>\n",
       "  </tbody>\n",
       "</table>\n",
       "<p>400 rows × 4 columns</p>\n",
       "</div>"
      ],
      "text/plain": [
       "     Gender  Age  EstimatedSalary  Purchased\n",
       "0      Male   19            19000          0\n",
       "1      Male   35            20000          0\n",
       "2    Female   26            43000          0\n",
       "3    Female   27            57000          0\n",
       "4      Male   19            76000          0\n",
       "..      ...  ...              ...        ...\n",
       "395  Female   46            41000          1\n",
       "396    Male   51            23000          1\n",
       "397  Female   50            20000          1\n",
       "398    Male   36            33000          0\n",
       "399  Female   49            36000          1\n",
       "\n",
       "[400 rows x 4 columns]"
      ]
     },
     "execution_count": 17,
     "metadata": {},
     "output_type": "execute_result"
    }
   ],
   "source": [
    "social_N_data.drop('User ID', axis=1, inplace=True)\n",
    "social_N_data"
   ]
  },
  {
   "cell_type": "markdown",
   "metadata": {},
   "source": [
    "## Changing categorical data into dummies\n",
    "\n",
    "Veamos la información del conjunto de datos para hacernos una idea general de lo que contiene."
   ]
  },
  {
   "cell_type": "code",
   "execution_count": 18,
   "metadata": {},
   "outputs": [
    {
     "name": "stdout",
     "output_type": "stream",
     "text": [
      "<class 'pandas.core.frame.DataFrame'>\n",
      "RangeIndex: 400 entries, 0 to 399\n",
      "Data columns (total 4 columns):\n",
      " #   Column           Non-Null Count  Dtype \n",
      "---  ------           --------------  ----- \n",
      " 0   Gender           400 non-null    object\n",
      " 1   Age              400 non-null    int64 \n",
      " 2   EstimatedSalary  400 non-null    int64 \n",
      " 3   Purchased        400 non-null    int64 \n",
      "dtypes: int64(3), object(1)\n",
      "memory usage: 12.6+ KB\n"
     ]
    }
   ],
   "source": [
    "social_N_data.info()"
   ]
  },
  {
   "cell_type": "markdown",
   "metadata": {},
   "source": [
    "La variable Género es categórica. Para que el modelo funcione, la convertiremos en variables ficticias utilizando el método Pandas get_dummies o el método oneHotEncoder.\n",
    "\n",
    "- Cambie Género a variable dummy y elimine la primera variable dummy para evitar la multicolinealidad:"
   ]
  },
  {
   "cell_type": "code",
   "execution_count": 19,
   "metadata": {},
   "outputs": [
    {
     "data": {
      "text/html": [
       "<div>\n",
       "<style scoped>\n",
       "    .dataframe tbody tr th:only-of-type {\n",
       "        vertical-align: middle;\n",
       "    }\n",
       "\n",
       "    .dataframe tbody tr th {\n",
       "        vertical-align: top;\n",
       "    }\n",
       "\n",
       "    .dataframe thead th {\n",
       "        text-align: right;\n",
       "    }\n",
       "</style>\n",
       "<table border=\"1\" class=\"dataframe\">\n",
       "  <thead>\n",
       "    <tr style=\"text-align: right;\">\n",
       "      <th></th>\n",
       "      <th>Male</th>\n",
       "    </tr>\n",
       "  </thead>\n",
       "  <tbody>\n",
       "    <tr>\n",
       "      <th>0</th>\n",
       "      <td>1</td>\n",
       "    </tr>\n",
       "    <tr>\n",
       "      <th>1</th>\n",
       "      <td>1</td>\n",
       "    </tr>\n",
       "    <tr>\n",
       "      <th>2</th>\n",
       "      <td>0</td>\n",
       "    </tr>\n",
       "    <tr>\n",
       "      <th>3</th>\n",
       "      <td>0</td>\n",
       "    </tr>\n",
       "    <tr>\n",
       "      <th>4</th>\n",
       "      <td>1</td>\n",
       "    </tr>\n",
       "    <tr>\n",
       "      <th>...</th>\n",
       "      <td>...</td>\n",
       "    </tr>\n",
       "    <tr>\n",
       "      <th>395</th>\n",
       "      <td>0</td>\n",
       "    </tr>\n",
       "    <tr>\n",
       "      <th>396</th>\n",
       "      <td>1</td>\n",
       "    </tr>\n",
       "    <tr>\n",
       "      <th>397</th>\n",
       "      <td>0</td>\n",
       "    </tr>\n",
       "    <tr>\n",
       "      <th>398</th>\n",
       "      <td>1</td>\n",
       "    </tr>\n",
       "    <tr>\n",
       "      <th>399</th>\n",
       "      <td>0</td>\n",
       "    </tr>\n",
       "  </tbody>\n",
       "</table>\n",
       "<p>400 rows × 1 columns</p>\n",
       "</div>"
      ],
      "text/plain": [
       "     Male\n",
       "0       1\n",
       "1       1\n",
       "2       0\n",
       "3       0\n",
       "4       1\n",
       "..    ...\n",
       "395     0\n",
       "396     1\n",
       "397     0\n",
       "398     1\n",
       "399     0\n",
       "\n",
       "[400 rows x 1 columns]"
      ]
     },
     "execution_count": 19,
     "metadata": {},
     "output_type": "execute_result"
    }
   ],
   "source": [
    "gender = pd.get_dummies(social_N_data['Gender'], drop_first=True)\n",
    "gender"
   ]
  },
  {
   "cell_type": "code",
   "execution_count": 20,
   "metadata": {},
   "outputs": [
    {
     "data": {
      "text/html": [
       "<div>\n",
       "<style scoped>\n",
       "    .dataframe tbody tr th:only-of-type {\n",
       "        vertical-align: middle;\n",
       "    }\n",
       "\n",
       "    .dataframe tbody tr th {\n",
       "        vertical-align: top;\n",
       "    }\n",
       "\n",
       "    .dataframe thead th {\n",
       "        text-align: right;\n",
       "    }\n",
       "</style>\n",
       "<table border=\"1\" class=\"dataframe\">\n",
       "  <thead>\n",
       "    <tr style=\"text-align: right;\">\n",
       "      <th></th>\n",
       "      <th>Age</th>\n",
       "      <th>EstimatedSalary</th>\n",
       "      <th>Purchased</th>\n",
       "    </tr>\n",
       "  </thead>\n",
       "  <tbody>\n",
       "    <tr>\n",
       "      <th>0</th>\n",
       "      <td>19</td>\n",
       "      <td>19000</td>\n",
       "      <td>0</td>\n",
       "    </tr>\n",
       "    <tr>\n",
       "      <th>1</th>\n",
       "      <td>35</td>\n",
       "      <td>20000</td>\n",
       "      <td>0</td>\n",
       "    </tr>\n",
       "    <tr>\n",
       "      <th>2</th>\n",
       "      <td>26</td>\n",
       "      <td>43000</td>\n",
       "      <td>0</td>\n",
       "    </tr>\n",
       "    <tr>\n",
       "      <th>3</th>\n",
       "      <td>27</td>\n",
       "      <td>57000</td>\n",
       "      <td>0</td>\n",
       "    </tr>\n",
       "    <tr>\n",
       "      <th>4</th>\n",
       "      <td>19</td>\n",
       "      <td>76000</td>\n",
       "      <td>0</td>\n",
       "    </tr>\n",
       "    <tr>\n",
       "      <th>...</th>\n",
       "      <td>...</td>\n",
       "      <td>...</td>\n",
       "      <td>...</td>\n",
       "    </tr>\n",
       "    <tr>\n",
       "      <th>395</th>\n",
       "      <td>46</td>\n",
       "      <td>41000</td>\n",
       "      <td>1</td>\n",
       "    </tr>\n",
       "    <tr>\n",
       "      <th>396</th>\n",
       "      <td>51</td>\n",
       "      <td>23000</td>\n",
       "      <td>1</td>\n",
       "    </tr>\n",
       "    <tr>\n",
       "      <th>397</th>\n",
       "      <td>50</td>\n",
       "      <td>20000</td>\n",
       "      <td>1</td>\n",
       "    </tr>\n",
       "    <tr>\n",
       "      <th>398</th>\n",
       "      <td>36</td>\n",
       "      <td>33000</td>\n",
       "      <td>0</td>\n",
       "    </tr>\n",
       "    <tr>\n",
       "      <th>399</th>\n",
       "      <td>49</td>\n",
       "      <td>36000</td>\n",
       "      <td>1</td>\n",
       "    </tr>\n",
       "  </tbody>\n",
       "</table>\n",
       "<p>400 rows × 3 columns</p>\n",
       "</div>"
      ],
      "text/plain": [
       "     Age  EstimatedSalary  Purchased\n",
       "0     19            19000          0\n",
       "1     35            20000          0\n",
       "2     26            43000          0\n",
       "3     27            57000          0\n",
       "4     19            76000          0\n",
       "..   ...              ...        ...\n",
       "395   46            41000          1\n",
       "396   51            23000          1\n",
       "397   50            20000          1\n",
       "398   36            33000          0\n",
       "399   49            36000          1\n",
       "\n",
       "[400 rows x 3 columns]"
      ]
     },
     "execution_count": 20,
     "metadata": {},
     "output_type": "execute_result"
    }
   ],
   "source": [
    "social_N_data.drop('Gender',axis=1,inplace=True)\n",
    "social_N_data"
   ]
  },
  {
   "cell_type": "code",
   "execution_count": 21,
   "metadata": {},
   "outputs": [
    {
     "data": {
      "text/html": [
       "<div>\n",
       "<style scoped>\n",
       "    .dataframe tbody tr th:only-of-type {\n",
       "        vertical-align: middle;\n",
       "    }\n",
       "\n",
       "    .dataframe tbody tr th {\n",
       "        vertical-align: top;\n",
       "    }\n",
       "\n",
       "    .dataframe thead th {\n",
       "        text-align: right;\n",
       "    }\n",
       "</style>\n",
       "<table border=\"1\" class=\"dataframe\">\n",
       "  <thead>\n",
       "    <tr style=\"text-align: right;\">\n",
       "      <th></th>\n",
       "      <th>Age</th>\n",
       "      <th>EstimatedSalary</th>\n",
       "      <th>Purchased</th>\n",
       "      <th>Male</th>\n",
       "    </tr>\n",
       "  </thead>\n",
       "  <tbody>\n",
       "    <tr>\n",
       "      <th>0</th>\n",
       "      <td>19</td>\n",
       "      <td>19000</td>\n",
       "      <td>0</td>\n",
       "      <td>1</td>\n",
       "    </tr>\n",
       "    <tr>\n",
       "      <th>1</th>\n",
       "      <td>35</td>\n",
       "      <td>20000</td>\n",
       "      <td>0</td>\n",
       "      <td>1</td>\n",
       "    </tr>\n",
       "    <tr>\n",
       "      <th>2</th>\n",
       "      <td>26</td>\n",
       "      <td>43000</td>\n",
       "      <td>0</td>\n",
       "      <td>0</td>\n",
       "    </tr>\n",
       "    <tr>\n",
       "      <th>3</th>\n",
       "      <td>27</td>\n",
       "      <td>57000</td>\n",
       "      <td>0</td>\n",
       "      <td>0</td>\n",
       "    </tr>\n",
       "    <tr>\n",
       "      <th>4</th>\n",
       "      <td>19</td>\n",
       "      <td>76000</td>\n",
       "      <td>0</td>\n",
       "      <td>1</td>\n",
       "    </tr>\n",
       "    <tr>\n",
       "      <th>...</th>\n",
       "      <td>...</td>\n",
       "      <td>...</td>\n",
       "      <td>...</td>\n",
       "      <td>...</td>\n",
       "    </tr>\n",
       "    <tr>\n",
       "      <th>395</th>\n",
       "      <td>46</td>\n",
       "      <td>41000</td>\n",
       "      <td>1</td>\n",
       "      <td>0</td>\n",
       "    </tr>\n",
       "    <tr>\n",
       "      <th>396</th>\n",
       "      <td>51</td>\n",
       "      <td>23000</td>\n",
       "      <td>1</td>\n",
       "      <td>1</td>\n",
       "    </tr>\n",
       "    <tr>\n",
       "      <th>397</th>\n",
       "      <td>50</td>\n",
       "      <td>20000</td>\n",
       "      <td>1</td>\n",
       "      <td>0</td>\n",
       "    </tr>\n",
       "    <tr>\n",
       "      <th>398</th>\n",
       "      <td>36</td>\n",
       "      <td>33000</td>\n",
       "      <td>0</td>\n",
       "      <td>1</td>\n",
       "    </tr>\n",
       "    <tr>\n",
       "      <th>399</th>\n",
       "      <td>49</td>\n",
       "      <td>36000</td>\n",
       "      <td>1</td>\n",
       "      <td>0</td>\n",
       "    </tr>\n",
       "  </tbody>\n",
       "</table>\n",
       "<p>400 rows × 4 columns</p>\n",
       "</div>"
      ],
      "text/plain": [
       "     Age  EstimatedSalary  Purchased  Male\n",
       "0     19            19000          0     1\n",
       "1     35            20000          0     1\n",
       "2     26            43000          0     0\n",
       "3     27            57000          0     0\n",
       "4     19            76000          0     1\n",
       "..   ...              ...        ...   ...\n",
       "395   46            41000          1     0\n",
       "396   51            23000          1     1\n",
       "397   50            20000          1     0\n",
       "398   36            33000          0     1\n",
       "399   49            36000          1     0\n",
       "\n",
       "[400 rows x 4 columns]"
      ]
     },
     "execution_count": 21,
     "metadata": {},
     "output_type": "execute_result"
    }
   ],
   "source": [
    "social_N_data = pd.concat([social_N_data,gender], axis=1)\n",
    "social_N_data\n"
   ]
  },
  {
   "cell_type": "markdown",
   "metadata": {},
   "source": [
    "Cuando el valor Masculino es 1, significa que el género es masculino, y cuando el valor es 0, que el género es femenino. No necesitamos las variables Mujer y Sexo en el conjunto de datos, ya que una puede utilizarse para predecir la otra."
   ]
  },
  {
   "cell_type": "markdown",
   "metadata": {},
   "source": [
    "## División de los datos en variables independientes(X) y dependientes(y)\n",
    "\n",
    "Divida los datos en variables independientes y dependientes."
   ]
  },
  {
   "cell_type": "code",
   "execution_count": 22,
   "metadata": {},
   "outputs": [
    {
     "data": {
      "text/html": [
       "<div>\n",
       "<style scoped>\n",
       "    .dataframe tbody tr th:only-of-type {\n",
       "        vertical-align: middle;\n",
       "    }\n",
       "\n",
       "    .dataframe tbody tr th {\n",
       "        vertical-align: top;\n",
       "    }\n",
       "\n",
       "    .dataframe thead th {\n",
       "        text-align: right;\n",
       "    }\n",
       "</style>\n",
       "<table border=\"1\" class=\"dataframe\">\n",
       "  <thead>\n",
       "    <tr style=\"text-align: right;\">\n",
       "      <th></th>\n",
       "      <th>Age</th>\n",
       "      <th>EstimatedSalary</th>\n",
       "      <th>Male</th>\n",
       "    </tr>\n",
       "  </thead>\n",
       "  <tbody>\n",
       "    <tr>\n",
       "      <th>0</th>\n",
       "      <td>19</td>\n",
       "      <td>19000</td>\n",
       "      <td>1</td>\n",
       "    </tr>\n",
       "    <tr>\n",
       "      <th>1</th>\n",
       "      <td>35</td>\n",
       "      <td>20000</td>\n",
       "      <td>1</td>\n",
       "    </tr>\n",
       "    <tr>\n",
       "      <th>2</th>\n",
       "      <td>26</td>\n",
       "      <td>43000</td>\n",
       "      <td>0</td>\n",
       "    </tr>\n",
       "    <tr>\n",
       "      <th>3</th>\n",
       "      <td>27</td>\n",
       "      <td>57000</td>\n",
       "      <td>0</td>\n",
       "    </tr>\n",
       "    <tr>\n",
       "      <th>4</th>\n",
       "      <td>19</td>\n",
       "      <td>76000</td>\n",
       "      <td>1</td>\n",
       "    </tr>\n",
       "  </tbody>\n",
       "</table>\n",
       "</div>"
      ],
      "text/plain": [
       "   Age  EstimatedSalary  Male\n",
       "0   19            19000     1\n",
       "1   35            20000     1\n",
       "2   26            43000     0\n",
       "3   27            57000     0\n",
       "4   19            76000     1"
      ]
     },
     "execution_count": 22,
     "metadata": {},
     "output_type": "execute_result"
    }
   ],
   "source": [
    "X = social_N_data.iloc[:,[0,1,3]] # Age, EstimatedSalary and Male\n",
    "X.head()"
   ]
  },
  {
   "cell_type": "code",
   "execution_count": 25,
   "metadata": {},
   "outputs": [
    {
     "data": {
      "text/plain": [
       "0      0\n",
       "1      0\n",
       "2      0\n",
       "3      0\n",
       "4      0\n",
       "      ..\n",
       "395    1\n",
       "396    1\n",
       "397    1\n",
       "398    0\n",
       "399    1\n",
       "Name: Purchased, Length: 400, dtype: int64"
      ]
     },
     "execution_count": 25,
     "metadata": {},
     "output_type": "execute_result"
    }
   ],
   "source": [
    "y = social_N_data.iloc[:, 2] # Purchased\n",
    "y"
   ]
  },
  {
   "cell_type": "markdown",
   "metadata": {},
   "source": [
    "## Feature scaling\n",
    "\n",
    "El escalado de características es un método utilizado para normalizar el rango de las variables independientes. El método permite que las variables independientes estén en el mismo rango.\n",
    "\n",
    "Cuando se trabaja con grandes conjuntos de datos, el escalado desempeña un papel importante en la mejora del rendimiento del modelo.\n",
    "\n",
    "En los datos, importaremos el StandardScaler del módulo de preprocesamiento de Scikit-learn y lo utilizaremos para transformar los datos. Por ejemplo, hay una gran diferencia entre los valores de la variable Edad y los de SalarioEstimado.\n"
   ]
  },
  {
   "cell_type": "code",
   "execution_count": 26,
   "metadata": {},
   "outputs": [
    {
     "data": {
      "text/plain": [
       "array([[-1.78179743, -1.49004624,  1.02020406],\n",
       "       [-0.25358736, -1.46068138,  1.02020406],\n",
       "       [-1.11320552, -0.78528968, -0.98019606],\n",
       "       ...,\n",
       "       [ 1.17910958, -1.46068138, -0.98019606],\n",
       "       [-0.15807423, -1.07893824,  1.02020406],\n",
       "       [ 1.08359645, -0.99084367, -0.98019606]])"
      ]
     },
     "execution_count": 26,
     "metadata": {},
     "output_type": "execute_result"
    }
   ],
   "source": [
    "from sklearn.preprocessing import StandardScaler\n",
    "sc = StandardScaler()\n",
    "X = sc.fit_transform(X)\n",
    "X"
   ]
  },
  {
   "cell_type": "markdown",
   "metadata": {},
   "source": [
    "## Dividir el conjunto de datos en conjuntos de entrenamiento y de prueba\n",
    "\n",
    "Divida el conjunto de datos en conjuntos de entrenamiento y de prueba mediante la función train_test_split.\n"
   ]
  },
  {
   "cell_type": "code",
   "execution_count": 27,
   "metadata": {},
   "outputs": [
    {
     "name": "stdout",
     "output_type": "stream",
     "text": [
      "(280, 3)\n",
      "(120, 3)\n",
      "(280,)\n",
      "(120,)\n"
     ]
    }
   ],
   "source": [
    "from sklearn.model_selection import train_test_split \n",
    "X_train, X_test, y_train, y_test = train_test_split(X, y, test_size=0.30, random_state=1)\n",
    "\n",
    "print(X_train.shape)\n",
    "print(X_test.shape)\n",
    "print(y_train.shape)\n",
    "print(y_test.shape)\n"
   ]
  },
  {
   "cell_type": "markdown",
   "metadata": {},
   "source": [
    "## Ajuste/fit del modelo de regresión logística y predicción de los resultados de las pruebas\n",
    "Ahora que el conjunto de datos está bien preparado, podemos entrenar el modelo importando la clase LogisticRegression del módulo linear_model de Scikit-learn.\n",
    "\n",
    "El entrenamiento se realiza llamando al método fit y pasándole los datos de entrenamiento."
   ]
  },
  {
   "cell_type": "code",
   "execution_count": 80,
   "metadata": {},
   "outputs": [
    {
     "data": {
      "text/html": [
       "<style>#sk-container-id-4 {color: black;}#sk-container-id-4 pre{padding: 0;}#sk-container-id-4 div.sk-toggleable {background-color: white;}#sk-container-id-4 label.sk-toggleable__label {cursor: pointer;display: block;width: 100%;margin-bottom: 0;padding: 0.3em;box-sizing: border-box;text-align: center;}#sk-container-id-4 label.sk-toggleable__label-arrow:before {content: \"▸\";float: left;margin-right: 0.25em;color: #696969;}#sk-container-id-4 label.sk-toggleable__label-arrow:hover:before {color: black;}#sk-container-id-4 div.sk-estimator:hover label.sk-toggleable__label-arrow:before {color: black;}#sk-container-id-4 div.sk-toggleable__content {max-height: 0;max-width: 0;overflow: hidden;text-align: left;background-color: #f0f8ff;}#sk-container-id-4 div.sk-toggleable__content pre {margin: 0.2em;color: black;border-radius: 0.25em;background-color: #f0f8ff;}#sk-container-id-4 input.sk-toggleable__control:checked~div.sk-toggleable__content {max-height: 200px;max-width: 100%;overflow: auto;}#sk-container-id-4 input.sk-toggleable__control:checked~label.sk-toggleable__label-arrow:before {content: \"▾\";}#sk-container-id-4 div.sk-estimator input.sk-toggleable__control:checked~label.sk-toggleable__label {background-color: #d4ebff;}#sk-container-id-4 div.sk-label input.sk-toggleable__control:checked~label.sk-toggleable__label {background-color: #d4ebff;}#sk-container-id-4 input.sk-hidden--visually {border: 0;clip: rect(1px 1px 1px 1px);clip: rect(1px, 1px, 1px, 1px);height: 1px;margin: -1px;overflow: hidden;padding: 0;position: absolute;width: 1px;}#sk-container-id-4 div.sk-estimator {font-family: monospace;background-color: #f0f8ff;border: 1px dotted black;border-radius: 0.25em;box-sizing: border-box;margin-bottom: 0.5em;}#sk-container-id-4 div.sk-estimator:hover {background-color: #d4ebff;}#sk-container-id-4 div.sk-parallel-item::after {content: \"\";width: 100%;border-bottom: 1px solid gray;flex-grow: 1;}#sk-container-id-4 div.sk-label:hover label.sk-toggleable__label {background-color: #d4ebff;}#sk-container-id-4 div.sk-serial::before {content: \"\";position: absolute;border-left: 1px solid gray;box-sizing: border-box;top: 0;bottom: 0;left: 50%;z-index: 0;}#sk-container-id-4 div.sk-serial {display: flex;flex-direction: column;align-items: center;background-color: white;padding-right: 0.2em;padding-left: 0.2em;position: relative;}#sk-container-id-4 div.sk-item {position: relative;z-index: 1;}#sk-container-id-4 div.sk-parallel {display: flex;align-items: stretch;justify-content: center;background-color: white;position: relative;}#sk-container-id-4 div.sk-item::before, #sk-container-id-4 div.sk-parallel-item::before {content: \"\";position: absolute;border-left: 1px solid gray;box-sizing: border-box;top: 0;bottom: 0;left: 50%;z-index: -1;}#sk-container-id-4 div.sk-parallel-item {display: flex;flex-direction: column;z-index: 1;position: relative;background-color: white;}#sk-container-id-4 div.sk-parallel-item:first-child::after {align-self: flex-end;width: 50%;}#sk-container-id-4 div.sk-parallel-item:last-child::after {align-self: flex-start;width: 50%;}#sk-container-id-4 div.sk-parallel-item:only-child::after {width: 0;}#sk-container-id-4 div.sk-dashed-wrapped {border: 1px dashed gray;margin: 0 0.4em 0.5em 0.4em;box-sizing: border-box;padding-bottom: 0.4em;background-color: white;}#sk-container-id-4 div.sk-label label {font-family: monospace;font-weight: bold;display: inline-block;line-height: 1.2em;}#sk-container-id-4 div.sk-label-container {text-align: center;}#sk-container-id-4 div.sk-container {/* jupyter's `normalize.less` sets `[hidden] { display: none; }` but bootstrap.min.css set `[hidden] { display: none !important; }` so we also need the `!important` here to be able to override the default hidden behavior on the sphinx rendered scikit-learn.org. See: https://github.com/scikit-learn/scikit-learn/issues/21755 */display: inline-block !important;position: relative;}#sk-container-id-4 div.sk-text-repr-fallback {display: none;}</style><div id=\"sk-container-id-4\" class=\"sk-top-container\"><div class=\"sk-text-repr-fallback\"><pre>LogisticRegression()</pre><b>In a Jupyter environment, please rerun this cell to show the HTML representation or trust the notebook. <br />On GitHub, the HTML representation is unable to render, please try loading this page with nbviewer.org.</b></div><div class=\"sk-container\" hidden><div class=\"sk-item\"><div class=\"sk-estimator sk-toggleable\"><input class=\"sk-toggleable__control sk-hidden--visually\" id=\"sk-estimator-id-4\" type=\"checkbox\" checked><label for=\"sk-estimator-id-4\" class=\"sk-toggleable__label sk-toggleable__label-arrow\">LogisticRegression</label><div class=\"sk-toggleable__content\"><pre>LogisticRegression()</pre></div></div></div></div></div>"
      ],
      "text/plain": [
       "LogisticRegression()"
      ]
     },
     "execution_count": 80,
     "metadata": {},
     "output_type": "execute_result"
    }
   ],
   "source": [
    "from sklearn.linear_model import LogisticRegression  \n",
    "classifier = LogisticRegression()\n",
    "classifier.fit(X_train, y_train)"
   ]
  },
  {
   "cell_type": "markdown",
   "metadata": {},
   "source": [
    "El modelo ya está entrenado en el conjunto de entrenamiento. Vamos a realizar la predicción en el conjunto de prueba utilizando el método predecir."
   ]
  },
  {
   "cell_type": "code",
   "execution_count": 30,
   "metadata": {},
   "outputs": [
    {
     "data": {
      "text/plain": [
       "array([0, 0, 1, 1, 0, 0, 0, 1, 0, 1, 0, 0, 0, 1, 1, 1, 1, 0, 0, 1, 0, 1,\n",
       "       1, 1, 0, 0, 1, 1, 1, 1, 0, 0, 0, 1, 0, 0, 0, 0, 0, 0, 1, 1, 1, 0,\n",
       "       1, 0, 0, 1, 0, 1, 0, 0, 1, 0, 1, 0, 1, 0, 1, 1, 0, 0, 1, 0, 0, 1,\n",
       "       0, 0, 1, 0, 1, 0, 1, 0, 0, 1, 0, 0, 0, 0, 0, 0, 1, 0, 0, 0, 0, 0,\n",
       "       0, 0, 1, 1, 0, 0, 0, 1, 1, 0, 0, 0, 0, 1, 0, 0, 0, 1, 0, 1, 1, 0,\n",
       "       0, 0, 0, 0, 0, 0, 0, 0, 0, 0])"
      ]
     },
     "execution_count": 30,
     "metadata": {},
     "output_type": "execute_result"
    }
   ],
   "source": [
    "y_pred = classifier.predict(X_test)\n",
    "y_pred"
   ]
  },
  {
   "cell_type": "markdown",
   "metadata": {},
   "source": [
    "Vamos a crear un Pandas DataFrame y comparar los valores previstos y reales."
   ]
  },
  {
   "cell_type": "code",
   "execution_count": 31,
   "metadata": {},
   "outputs": [
    {
     "data": {
      "text/html": [
       "<div>\n",
       "<style scoped>\n",
       "    .dataframe tbody tr th:only-of-type {\n",
       "        vertical-align: middle;\n",
       "    }\n",
       "\n",
       "    .dataframe tbody tr th {\n",
       "        vertical-align: top;\n",
       "    }\n",
       "\n",
       "    .dataframe thead th {\n",
       "        text-align: right;\n",
       "    }\n",
       "</style>\n",
       "<table border=\"1\" class=\"dataframe\">\n",
       "  <thead>\n",
       "    <tr style=\"text-align: right;\">\n",
       "      <th></th>\n",
       "      <th>Actual</th>\n",
       "      <th>Predicted</th>\n",
       "    </tr>\n",
       "  </thead>\n",
       "  <tbody>\n",
       "    <tr>\n",
       "      <th>398</th>\n",
       "      <td>0</td>\n",
       "      <td>0</td>\n",
       "    </tr>\n",
       "    <tr>\n",
       "      <th>125</th>\n",
       "      <td>0</td>\n",
       "      <td>0</td>\n",
       "    </tr>\n",
       "    <tr>\n",
       "      <th>328</th>\n",
       "      <td>1</td>\n",
       "      <td>1</td>\n",
       "    </tr>\n",
       "    <tr>\n",
       "      <th>339</th>\n",
       "      <td>1</td>\n",
       "      <td>1</td>\n",
       "    </tr>\n",
       "    <tr>\n",
       "      <th>172</th>\n",
       "      <td>0</td>\n",
       "      <td>0</td>\n",
       "    </tr>\n",
       "    <tr>\n",
       "      <th>...</th>\n",
       "      <td>...</td>\n",
       "      <td>...</td>\n",
       "    </tr>\n",
       "    <tr>\n",
       "      <th>91</th>\n",
       "      <td>0</td>\n",
       "      <td>0</td>\n",
       "    </tr>\n",
       "    <tr>\n",
       "      <th>322</th>\n",
       "      <td>0</td>\n",
       "      <td>0</td>\n",
       "    </tr>\n",
       "    <tr>\n",
       "      <th>248</th>\n",
       "      <td>0</td>\n",
       "      <td>0</td>\n",
       "    </tr>\n",
       "    <tr>\n",
       "      <th>186</th>\n",
       "      <td>0</td>\n",
       "      <td>0</td>\n",
       "    </tr>\n",
       "    <tr>\n",
       "      <th>395</th>\n",
       "      <td>1</td>\n",
       "      <td>0</td>\n",
       "    </tr>\n",
       "  </tbody>\n",
       "</table>\n",
       "<p>120 rows × 2 columns</p>\n",
       "</div>"
      ],
      "text/plain": [
       "     Actual  Predicted\n",
       "398       0          0\n",
       "125       0          0\n",
       "328       1          1\n",
       "339       1          1\n",
       "172       0          0\n",
       "..      ...        ...\n",
       "91        0          0\n",
       "322       0          0\n",
       "248       0          0\n",
       "186       0          0\n",
       "395       1          0\n",
       "\n",
       "[120 rows x 2 columns]"
      ]
     },
     "execution_count": 31,
     "metadata": {},
     "output_type": "execute_result"
    }
   ],
   "source": [
    "result = pd.DataFrame({'Actual' : y_test, 'Predicted' : y_pred})\n",
    "result"
   ]
  },
  {
   "cell_type": "markdown",
   "metadata": {},
   "source": [
    "Los atributos coef_ e intercept_ proporcionan el coeficiente y el intercepto del modelo."
   ]
  },
  {
   "cell_type": "code",
   "execution_count": 35,
   "metadata": {},
   "outputs": [
    {
     "data": {
      "text/plain": [
       "array([[2.36839196, 1.42929561, 0.20973787]])"
      ]
     },
     "execution_count": 35,
     "metadata": {},
     "output_type": "execute_result"
    }
   ],
   "source": [
    "classifier.coef_\n",
    "# array([[2.36839196, 1.42929561, 0.20973787]])\n"
   ]
  },
  {
   "cell_type": "code",
   "execution_count": 36,
   "metadata": {},
   "outputs": [
    {
     "data": {
      "text/plain": [
       "array([-1.1352347])"
      ]
     },
     "execution_count": 36,
     "metadata": {},
     "output_type": "execute_result"
    }
   ],
   "source": [
    "classifier.intercept_ \n",
    "# array([-1.1352347])"
   ]
  },
  {
   "cell_type": "markdown",
   "metadata": {},
   "source": [
    "## Evaluando el modelo\n",
    "Hay varias formas de comprobar el rendimiento del modelo.\n",
    "\n",
    "Uso de predict_proba\n",
    "* Devuelve la matriz de probabilidades de que la salida predicha sea igual a cero o a uno."
   ]
  },
  {
   "cell_type": "code",
   "execution_count": 37,
   "metadata": {},
   "outputs": [
    {
     "name": "stdout",
     "output_type": "stream",
     "text": [
      "[[9.99305047e-01 6.94953436e-04]\n",
      " [9.73650395e-01 2.63496050e-02]\n",
      " [9.93938614e-01 6.06138563e-03]\n",
      " [9.86425967e-01 1.35740330e-02]\n",
      " [9.92449933e-01 7.55006749e-03]\n",
      " [9.78634880e-01 2.13651200e-02]\n",
      " [9.59015410e-01 4.09845897e-02]\n",
      " [3.21160956e-01 6.78839044e-01]\n",
      " [9.95160538e-01 4.83946203e-03]\n",
      " [8.94774017e-01 1.05225983e-01]\n",
      " [9.71990649e-01 2.80093506e-02]\n",
      " [9.91181077e-01 8.81892308e-03]\n",
      " [9.85694423e-01 1.43055770e-02]\n",
      " [9.87533664e-01 1.24663357e-02]\n",
      " [9.92255565e-01 7.74443464e-03]\n",
      " [9.20459783e-01 7.95402167e-02]\n",
      " [6.64896819e-01 3.35103181e-01]\n",
      " [7.49443667e-01 2.50556333e-01]\n",
      " [6.86862714e-01 3.13137286e-01]\n",
      " [6.70546154e-01 3.29453846e-01]\n",
      " [7.79633457e-01 2.20366543e-01]\n",
      " [5.24342635e-01 4.75657365e-01]\n",
      " [4.47060141e-01 5.52939859e-01]\n",
      " [8.43313433e-01 1.56686567e-01]\n",
      " [7.30142964e-01 2.69857036e-01]\n",
      " [7.09930944e-01 2.90069056e-01]\n",
      " [5.26688397e-01 4.73311603e-01]\n",
      " [7.09899857e-01 2.90100143e-01]\n",
      " [9.82040967e-01 1.79590333e-02]\n",
      " [9.90032335e-01 9.96766502e-03]\n",
      " [9.04478904e-01 9.55210964e-02]\n",
      " [7.16719057e-01 2.83280943e-01]\n",
      " [9.99366754e-01 6.33245900e-04]\n",
      " [9.90100683e-01 9.89931667e-03]\n",
      " [9.22822219e-01 7.71777814e-02]\n",
      " [9.64966938e-01 3.50330621e-02]\n",
      " [9.84416175e-01 1.55838249e-02]\n",
      " [9.71349095e-01 2.86509049e-02]\n",
      " [9.79818011e-01 2.01819893e-02]\n",
      " [9.95400407e-01 4.59959315e-03]\n",
      " [9.97438946e-01 2.56105394e-03]\n",
      " [9.60093093e-01 3.99069066e-02]\n",
      " [4.79048696e-01 5.20951304e-01]\n",
      " [9.92970022e-01 7.02997758e-03]\n",
      " [9.49140914e-01 5.08590862e-02]\n",
      " [9.98210717e-01 1.78928312e-03]\n",
      " [9.67561460e-01 3.24385403e-02]\n",
      " [9.88012641e-01 1.19873588e-02]\n",
      " [4.78510667e-01 5.21489333e-01]\n",
      " [8.84730029e-01 1.15269971e-01]\n",
      " [9.97561288e-01 2.43871155e-03]\n",
      " [9.98959971e-01 1.04002893e-03]\n",
      " [9.39474563e-01 6.05254374e-02]\n",
      " [9.80222710e-01 1.97772901e-02]\n",
      " [9.85852357e-01 1.41476427e-02]\n",
      " [9.93622045e-01 6.37795522e-03]\n",
      " [9.96198381e-01 3.80161932e-03]\n",
      " [9.38010384e-01 6.19896160e-02]\n",
      " [9.98687232e-01 1.31276769e-03]\n",
      " [6.53985245e-01 3.46014755e-01]\n",
      " [9.95589290e-01 4.41070957e-03]\n",
      " [9.55197887e-01 4.48021128e-02]\n",
      " [9.91942327e-01 8.05767262e-03]\n",
      " [5.22766880e-01 4.77233120e-01]\n",
      " [1.72233000e-02 9.82776700e-01]\n",
      " [9.89046004e-01 1.09539961e-02]\n",
      " [9.97849512e-01 2.15048757e-03]\n",
      " [9.84349886e-01 1.56501135e-02]\n",
      " [9.94320328e-01 5.67967207e-03]\n",
      " [9.48797055e-01 5.12029453e-02]\n",
      " [9.66217977e-01 3.37820232e-02]\n",
      " [9.98022020e-01 1.97798034e-03]\n",
      " [9.99322507e-01 6.77493145e-04]\n",
      " [6.40670407e-01 3.59329593e-01]\n",
      " [9.87533664e-01 1.24663357e-02]\n",
      " [4.93618838e-01 5.06381162e-01]\n",
      " [9.97789091e-01 2.21090929e-03]\n",
      " [9.98740933e-01 1.25906743e-03]\n",
      " [9.42707444e-01 5.72925556e-02]\n",
      " [9.97956375e-01 2.04362454e-03]\n",
      " [9.02242906e-01 9.77570935e-02]\n",
      " [8.55867872e-01 1.44132128e-01]\n",
      " [9.96938018e-01 3.06198203e-03]\n",
      " [6.80390486e-01 3.19609514e-01]\n",
      " [9.67624332e-01 3.23756684e-02]\n",
      " [6.94415646e-01 3.05584354e-01]\n",
      " [9.90329423e-01 9.67057665e-03]\n",
      " [9.47076251e-01 5.29237494e-02]\n",
      " [9.56281337e-01 4.37186633e-02]\n",
      " [9.12971356e-01 8.70286442e-02]\n",
      " [9.81838577e-01 1.81614231e-02]\n",
      " [7.56023304e-01 2.43976696e-01]\n",
      " [9.97143698e-01 2.85630212e-03]\n",
      " [9.93635693e-01 6.36430659e-03]\n",
      " [9.39474563e-01 6.05254374e-02]\n",
      " [9.53551675e-01 4.64483250e-02]\n",
      " [9.78528078e-01 2.14719217e-02]\n",
      " [7.04759736e-01 2.95240264e-01]\n",
      " [7.99814086e-01 2.00185914e-01]\n",
      " [9.92602134e-01 7.39786602e-03]\n",
      " [9.28592501e-01 7.14074986e-02]\n",
      " [9.72245635e-01 2.77543653e-02]\n",
      " [8.74099935e-01 1.25900065e-01]\n",
      " [2.82380689e-01 7.17619311e-01]\n",
      " [9.99503082e-01 4.96918221e-04]\n",
      " [9.89989693e-01 1.00103072e-02]\n",
      " [9.95659888e-01 4.34011226e-03]\n",
      " [9.25758909e-01 7.42410913e-02]\n",
      " [9.46617987e-01 5.33820131e-02]\n",
      " [6.96832044e-01 3.03167956e-01]\n",
      " [7.27858491e-01 2.72141509e-01]\n",
      " [8.07866988e-01 1.92133012e-01]\n",
      " [7.70325126e-01 2.29674874e-01]\n",
      " [8.43985563e-01 1.56014437e-01]\n",
      " [3.79386669e-01 6.20613331e-01]\n",
      " [7.16183219e-01 2.83816781e-01]\n",
      " [7.86035305e-01 2.13964695e-01]\n",
      " [8.84965090e-01 1.15034910e-01]\n",
      " [6.98815771e-01 3.01184229e-01]\n",
      " [6.49183583e-01 3.50816417e-01]\n",
      " [8.16758396e-01 1.83241604e-01]\n",
      " [7.26051101e-01 2.73948899e-01]\n",
      " [6.43293485e-01 3.56706515e-01]\n",
      " [9.02432902e-01 9.75670978e-02]\n",
      " [7.97506246e-01 2.02493754e-01]\n",
      " [8.02737918e-01 1.97262082e-01]\n",
      " [5.34299444e-01 4.65700556e-01]\n",
      " [9.94187176e-01 5.81282369e-03]\n",
      " [9.92359139e-01 7.64086060e-03]\n",
      " [9.67039311e-01 3.29606891e-02]\n",
      " [9.48804388e-01 5.11956122e-02]\n",
      " [9.73411870e-01 2.65881303e-02]\n",
      " [8.73094446e-01 1.26905554e-01]\n",
      " [9.94411961e-01 5.58803902e-03]\n",
      " [9.84383065e-01 1.56169346e-02]\n",
      " [9.89221808e-01 1.07781921e-02]\n",
      " [9.91998883e-01 8.00111701e-03]\n",
      " [7.48227162e-01 2.51772838e-01]\n",
      " [9.81580877e-01 1.84191229e-02]\n",
      " [9.99106209e-01 8.93791219e-04]\n",
      " [9.89022621e-01 1.09773788e-02]\n",
      " [9.97157318e-01 2.84268157e-03]\n",
      " [8.77903788e-01 1.22096212e-01]\n",
      " [8.63498726e-01 1.36501274e-01]\n",
      " [9.82800332e-01 1.71996681e-02]\n",
      " [9.73953833e-01 2.60461669e-02]\n",
      " [9.33952924e-01 6.60470756e-02]\n",
      " [9.04837800e-01 9.51622000e-02]\n",
      " [9.62531301e-01 3.74686989e-02]\n",
      " [9.91305651e-01 8.69434885e-03]\n",
      " [9.98120610e-01 1.87939027e-03]\n",
      " [7.69066444e-01 2.30933556e-01]\n",
      " [8.96976240e-01 1.03023760e-01]\n",
      " [9.27156855e-01 7.28431454e-02]\n",
      " [7.93363082e-01 2.06636918e-01]\n",
      " [9.94198752e-01 5.80124794e-03]\n",
      " [3.73879299e-01 6.26120701e-01]\n",
      " [9.34530865e-01 6.54691348e-02]\n",
      " [9.94652696e-01 5.34730378e-03]\n",
      " [4.70316018e-01 5.29683982e-01]\n",
      " [7.17187210e-01 2.82812790e-01]\n",
      " [9.49489827e-01 5.05101733e-02]\n",
      " [9.53959941e-01 4.60400585e-02]\n",
      " [9.45531257e-01 5.44687433e-02]\n",
      " [9.18714051e-01 8.12859487e-02]\n",
      " [9.93968331e-01 6.03166873e-03]\n",
      " [9.95933648e-01 4.06635179e-03]\n",
      " [8.68599767e-01 1.31400233e-01]\n",
      " [4.00010447e-01 5.99989553e-01]\n",
      " [9.85980885e-01 1.40191152e-02]\n",
      " [9.80593354e-01 1.94066457e-02]\n",
      " [4.62212387e-01 5.37787613e-01]\n",
      " [8.75654484e-01 1.24345516e-01]\n",
      " [9.64085428e-01 3.59145716e-02]\n",
      " [8.88238787e-01 1.11761213e-01]\n",
      " [9.98354297e-01 1.64570309e-03]\n",
      " [9.47645373e-01 5.23546271e-02]\n",
      " [9.96944592e-01 3.05540766e-03]\n",
      " [9.97457403e-01 2.54259651e-03]\n",
      " [9.87212459e-01 1.27875411e-02]\n",
      " [9.97021629e-01 2.97837085e-03]\n",
      " [9.42322732e-01 5.76772683e-02]\n",
      " [6.53985245e-01 3.46014755e-01]\n",
      " [9.56755991e-01 4.32440092e-02]\n",
      " [9.42823779e-01 5.71762209e-02]\n",
      " [9.29810387e-01 7.01896133e-02]\n",
      " [9.91998883e-01 8.00111701e-03]\n",
      " [9.73407963e-01 2.65920375e-02]\n",
      " [8.06449663e-01 1.93550337e-01]\n",
      " [9.90891834e-01 9.10816621e-03]\n",
      " [9.68070944e-01 3.19290558e-02]\n",
      " [9.99387123e-01 6.12877297e-04]\n",
      " [9.82040967e-01 1.79590333e-02]\n",
      " [9.94120849e-01 5.87915093e-03]\n",
      " [9.08635210e-01 9.13647903e-02]\n",
      " [9.46367571e-01 5.36324286e-02]\n",
      " [9.36071628e-01 6.39283721e-02]\n",
      " [9.98831435e-01 1.16856490e-03]\n",
      " [9.58002815e-01 4.19971849e-02]\n",
      " [9.71409036e-01 2.85909643e-02]\n",
      " [9.43328806e-01 5.66711939e-02]\n",
      " [1.38976895e-01 8.61023105e-01]\n",
      " [1.59709335e-01 8.40290665e-01]\n",
      " [6.29800117e-01 3.70199883e-01]\n",
      " [1.02174789e-02 9.89782521e-01]\n",
      " [5.45223497e-01 4.54776503e-01]\n",
      " [5.98849560e-03 9.94011504e-01]\n",
      " [2.27154178e-02 9.77284582e-01]\n",
      " [9.77592678e-02 9.02240732e-01]\n",
      " [8.11054823e-01 1.88945177e-01]\n",
      " [1.08960357e-01 8.91039643e-01]\n",
      " [3.36065914e-03 9.96639341e-01]\n",
      " [8.92111284e-02 9.10788872e-01]\n",
      " [8.82331731e-01 1.17668269e-01]\n",
      " [4.82435803e-01 5.17564197e-01]\n",
      " [4.87083164e-03 9.95129168e-01]\n",
      " [1.90606502e-01 8.09393498e-01]\n",
      " [5.11051915e-01 4.88948085e-01]\n",
      " [1.61246888e-01 8.38753112e-01]\n",
      " [9.27636904e-04 9.99072363e-01]\n",
      " [5.38329617e-01 4.61670383e-01]\n",
      " [6.52410938e-01 3.47589062e-01]\n",
      " [1.14331809e-01 8.85668191e-01]\n",
      " [4.12177478e-03 9.95878225e-01]\n",
      " [9.12959361e-01 8.70406390e-02]\n",
      " [8.54722228e-01 1.45277772e-01]\n",
      " [3.43894588e-01 6.56105412e-01]\n",
      " [2.77702574e-03 9.97222974e-01]\n",
      " [6.71637566e-01 3.28362434e-01]\n",
      " [4.81859800e-01 5.18140200e-01]\n",
      " [2.13968841e-01 7.86031159e-01]\n",
      " [8.55867872e-01 1.44132128e-01]\n",
      " [2.36322913e-01 7.63677087e-01]\n",
      " [8.88736106e-02 9.11126389e-01]\n",
      " [3.75002140e-01 6.24997860e-01]\n",
      " [2.05049023e-01 7.94950977e-01]\n",
      " [7.16183219e-01 2.83816781e-01]\n",
      " [7.42398047e-01 2.57601953e-01]\n",
      " [2.57044889e-01 7.42955111e-01]\n",
      " [5.45850280e-03 9.94541497e-01]\n",
      " [3.26676923e-02 9.67332308e-01]\n",
      " [7.84838671e-01 2.15161329e-01]\n",
      " [9.81402566e-02 9.01859743e-01]\n",
      " [1.41070445e-02 9.85892956e-01]\n",
      " [6.19962333e-01 3.80037667e-01]\n",
      " [7.55025221e-03 9.92449748e-01]\n",
      " [9.41034476e-01 5.89655236e-02]\n",
      " [5.33262315e-03 9.94667377e-01]\n",
      " [7.12846647e-01 2.87153353e-01]\n",
      " [6.89415258e-01 3.10584742e-01]\n",
      " [7.67776030e-01 2.32223970e-01]\n",
      " [8.59856669e-01 1.40143331e-01]\n",
      " [2.42141706e-02 9.75785829e-01]\n",
      " [1.52953709e-01 8.47046291e-01]\n",
      " [4.08218550e-01 5.91781450e-01]\n",
      " [5.98370294e-02 9.40162971e-01]\n",
      " [6.19962333e-01 3.80037667e-01]\n",
      " [7.16183219e-01 2.83816781e-01]\n",
      " [1.31051397e-02 9.86894860e-01]\n",
      " [5.25626841e-02 9.47437316e-01]\n",
      " [8.37100162e-01 1.62899838e-01]\n",
      " [1.39310923e-01 8.60689077e-01]\n",
      " [7.37649208e-03 9.92623508e-01]\n",
      " [8.63734885e-01 1.36265115e-01]\n",
      " [9.37113887e-02 9.06288611e-01]\n",
      " [2.23084259e-01 7.76915741e-01]\n",
      " [5.42429722e-01 4.57570278e-01]\n",
      " [7.09042176e-01 2.90957824e-01]\n",
      " [2.00395738e-02 9.79960426e-01]\n",
      " [6.80859145e-01 3.19140855e-01]\n",
      " [7.42427856e-02 9.25757214e-01]\n",
      " [2.29701560e-02 9.77029844e-01]\n",
      " [4.88425615e-02 9.51157439e-01]\n",
      " [2.88072826e-01 7.11927174e-01]\n",
      " [2.31592060e-01 7.68407940e-01]\n",
      " [2.57429629e-02 9.74257037e-01]\n",
      " [6.87925229e-01 3.12074771e-01]\n",
      " [8.23068687e-02 9.17693131e-01]\n",
      " [3.60790825e-01 6.39209175e-01]\n",
      " [4.91109383e-01 5.08890617e-01]\n",
      " [1.40086289e-02 9.85991371e-01]\n",
      " [8.68616996e-01 1.31383004e-01]\n",
      " [7.42426915e-01 2.57573085e-01]\n",
      " [5.35334661e-01 4.64665339e-01]\n",
      " [1.20132132e-02 9.87986787e-01]\n",
      " [6.25473450e-01 3.74526550e-01]\n",
      " [8.59838478e-01 1.40161522e-01]\n",
      " [2.05488106e-02 9.79451189e-01]\n",
      " [4.44240707e-01 5.55759293e-01]\n",
      " [7.58122228e-01 2.41877772e-01]\n",
      " [1.11060705e-01 8.88939295e-01]\n",
      " [7.91917601e-02 9.20808240e-01]\n",
      " [1.52891316e-01 8.47108684e-01]\n",
      " [6.82400052e-01 3.17599948e-01]\n",
      " [9.22458522e-01 7.75414776e-02]\n",
      " [8.80606965e-01 1.19393035e-01]\n",
      " [4.50573228e-01 5.49426772e-01]\n",
      " [1.62209531e-01 8.37790469e-01]\n",
      " [2.44379146e-01 7.55620854e-01]\n",
      " [4.97397413e-02 9.50260259e-01]\n",
      " [1.26838207e-01 8.73161793e-01]\n",
      " [1.68317159e-01 8.31682841e-01]\n",
      " [2.08518213e-01 7.91481787e-01]\n",
      " [6.63935385e-01 3.36064615e-01]\n",
      " [7.71932171e-01 2.28067829e-01]\n",
      " [6.45449289e-01 3.54550711e-01]\n",
      " [1.24323545e-02 9.87567645e-01]\n",
      " [6.98691999e-02 9.30130800e-01]\n",
      " [2.64331643e-01 7.35668357e-01]\n",
      " [8.90063440e-01 1.09936560e-01]\n",
      " [5.85918514e-01 4.14081486e-01]\n",
      " [3.81059951e-01 6.18940049e-01]\n",
      " [8.90063440e-01 1.09936560e-01]\n",
      " [1.45384241e-02 9.85461576e-01]\n",
      " [6.56563229e-01 3.43436771e-01]\n",
      " [6.93365379e-01 3.06634621e-01]\n",
      " [2.20004038e-02 9.77999596e-01]\n",
      " [8.94788230e-01 1.05211770e-01]\n",
      " [6.99269355e-01 3.00730645e-01]\n",
      " [8.46127284e-01 1.53872716e-01]\n",
      " [8.41708122e-03 9.91582919e-01]\n",
      " [6.63057390e-02 9.33694261e-01]\n",
      " [7.12846647e-01 2.87153353e-01]\n",
      " [6.61208692e-01 3.38791308e-01]\n",
      " [2.73743742e-02 9.72625626e-01]\n",
      " [7.29688174e-01 2.70311826e-01]\n",
      " [5.17450085e-01 4.82549915e-01]\n",
      " [5.34261883e-01 4.65738117e-01]\n",
      " [3.25243566e-01 6.74756434e-01]\n",
      " [8.81147725e-02 9.11885227e-01]\n",
      " [8.36150261e-01 1.63849739e-01]\n",
      " [4.45002714e-02 9.55499729e-01]\n",
      " [5.34299444e-01 4.65700556e-01]\n",
      " [6.43328124e-01 3.56671876e-01]\n",
      " [4.53939886e-02 9.54606011e-01]\n",
      " [9.14973340e-01 8.50266596e-02]\n",
      " [1.11509425e-03 9.98884906e-01]\n",
      " [7.56448575e-01 2.43551425e-01]\n",
      " [8.67787221e-01 1.32212779e-01]\n",
      " [1.71320233e-01 8.28679767e-01]\n",
      " [2.74318362e-02 9.72568164e-01]\n",
      " [7.86035305e-01 2.13964695e-01]\n",
      " [8.11811394e-01 1.88188606e-01]\n",
      " [5.03376313e-01 4.96623687e-01]\n",
      " [6.46162185e-02 9.35383782e-01]\n",
      " [7.04147722e-01 2.95852278e-01]\n",
      " [6.63150851e-02 9.33684915e-01]\n",
      " [1.86637378e-02 9.81336262e-01]\n",
      " [5.77470588e-01 4.22529412e-01]\n",
      " [7.70325126e-01 2.29674874e-01]\n",
      " [3.65217918e-01 6.34782082e-01]\n",
      " [7.00308141e-01 2.99691859e-01]\n",
      " [3.79351127e-01 6.20648873e-01]\n",
      " [8.83273816e-01 1.16726184e-01]\n",
      " [5.16911721e-01 4.83088279e-01]\n",
      " [6.70252314e-02 9.32974769e-01]\n",
      " [5.80311627e-02 9.41968837e-01]\n",
      " [6.19962333e-01 3.80037667e-01]\n",
      " [5.83707603e-01 4.16292397e-01]\n",
      " [6.45449289e-01 3.54550711e-01]\n",
      " [5.86931135e-02 9.41306887e-01]\n",
      " [3.47451206e-01 6.52548794e-01]\n",
      " [5.13865574e-01 4.86134426e-01]\n",
      " [4.92345198e-01 5.07654802e-01]\n",
      " [1.82506410e-01 8.17493590e-01]\n",
      " [1.44589653e-01 8.55410347e-01]\n",
      " [9.05491546e-02 9.09450845e-01]\n",
      " [1.50233493e-01 8.49766507e-01]\n",
      " [6.87925229e-01 3.12074771e-01]\n",
      " [3.72687228e-01 6.27312772e-01]\n",
      " [6.19542742e-02 9.38045726e-01]\n",
      " [9.10404254e-03 9.90895957e-01]\n",
      " [7.10917103e-01 2.89082897e-01]\n",
      " [1.59973174e-03 9.98400268e-01]\n",
      " [7.42398047e-01 2.57601953e-01]\n",
      " [7.38303227e-01 2.61696773e-01]\n",
      " [3.26157413e-01 6.73842587e-01]\n",
      " [7.42810152e-01 2.57189848e-01]\n",
      " [3.63608266e-01 6.36391734e-01]\n",
      " [2.14225165e-01 7.85774835e-01]\n",
      " [5.44726292e-01 4.55273708e-01]\n",
      " [5.30764183e-01 4.69235817e-01]\n",
      " [4.73667135e-02 9.52633286e-01]\n",
      " [5.26688397e-01 4.73311603e-01]\n",
      " [1.83450790e-01 8.16549210e-01]\n",
      " [5.62685178e-02 9.43731482e-01]\n",
      " [5.16177634e-01 4.83822366e-01]\n",
      " [6.37429516e-01 3.62570484e-01]\n",
      " [5.76263650e-01 4.23736350e-01]\n",
      " [6.12736559e-01 3.87263441e-01]\n",
      " [5.30764183e-01 4.69235817e-01]\n",
      " [6.83333856e-01 3.16666144e-01]\n",
      " [6.72112875e-01 3.27887125e-01]\n",
      " [4.88425615e-02 9.51157439e-01]\n",
      " [8.15693298e-01 1.84306702e-01]\n",
      " [6.59132018e-01 3.40867982e-01]\n",
      " [4.66123329e-01 5.33876671e-01]\n",
      " [6.53842077e-01 3.46157923e-01]\n",
      " [9.44682663e-01 5.53173368e-02]\n",
      " [5.47517742e-01 4.52482258e-01]]\n"
     ]
    }
   ],
   "source": [
    "print(classifier.predict_proba(X))\n"
   ]
  },
  {
   "cell_type": "markdown",
   "metadata": {},
   "source": [
    "En la matriz, cada fila representa una única observación. La primera columna es la probabilidad de que el producto no se compre(1-p(x)), y la segunda columna es la probabilidad de que el producto se compre(p(x))."
   ]
  },
  {
   "cell_type": "markdown",
   "metadata": {},
   "source": [
    "Hay varias formas de comprobar el rendimiento del modelo.\n",
    "* Uso de la matriz de confusión\n",
    "Desde el módulo de métricas de Scikit-learn, importamos confusion_matrix. La matriz de confusión es el número de predicciones correctas e incorrectas por columnas, mostrando los siguientes valores:\n",
    "\n",
    "- Verdaderos negativos(TN) en la posición superior izquierda.\n",
    "- Falsos negativos (FN) en la posición inferior izquierda.\n",
    "- Falsos positivos (FP) en la parte superior derecha.\n",
    "- Verdaderos positivos (TP) en la parte inferior derecha."
   ]
  },
  {
   "cell_type": "code",
   "execution_count": 38,
   "metadata": {},
   "outputs": [
    {
     "data": {
      "text/plain": [
       "array([[63,  9],\n",
       "       [14, 34]])"
      ]
     },
     "execution_count": 38,
     "metadata": {},
     "output_type": "execute_result"
    }
   ],
   "source": [
    "from sklearn.metrics import confusion_matrix\n",
    "cf_matrix = confusion_matrix(y_test, y_pred)\n",
    "cf_matrix"
   ]
  },
  {
   "cell_type": "code",
   "execution_count": 39,
   "metadata": {},
   "outputs": [
    {
     "data": {
      "text/plain": [
       "Text(0.5, 23.52222222222222, 'Predicted label')"
      ]
     },
     "execution_count": 39,
     "metadata": {},
     "output_type": "execute_result"
    },
    {
     "data": {
      "image/png": "[encoded data removed]",
      "text/plain": [
       "<Figure size 640x480 with 2 Axes>"
      ]
     },
     "metadata": {},
     "output_type": "display_data"
    }
   ],
   "source": [
    "sns.heatmap(pd.DataFrame(cf_matrix), annot=True, cmap=\"YlGnBu\" ,fmt='g')\n",
    "plt.title('Confusion matrix', y=1.1)\n",
    "plt.ylabel('Actual label')\n",
    "plt.xlabel('Predicted label')"
   ]
  },
  {
   "cell_type": "markdown",
   "metadata": {},
   "source": [
    "La salida de la matriz de confusión es una matriz 2*2 ya que el modelo es una clasificación binaria. Vamos a visualizarlo mejor utilizando un mapa de calor y explicarlo.\n",
    "\n",
    "- 63 predicciones TN: ceros predichos correctamente.\n",
    "- 14 predicciones FN: unos predichos erróneamente como ceros.\n",
    "- 9 predicciones FP: ceros que se predijeron erróneamente como unos.\n",
    "- 34 predicciones TP: unos predichos correctamente.\n",
    "\n",
    "accuracy = (TN + TP)/ (TN + TP + FP + FN)\n"
   ]
  },
  {
   "cell_type": "code",
   "execution_count": 40,
   "metadata": {},
   "outputs": [
    {
     "data": {
      "text/plain": [
       "0.8083333333333333"
      ]
     },
     "execution_count": 40,
     "metadata": {},
     "output_type": "execute_result"
    }
   ],
   "source": [
    "Accuracy = (63 + 34)/(63 + 34 + 9 + 14)\n",
    "Accuracy\n",
    "# 0.8083333333333333\n",
    "\n",
    "# Also same result from sklearn accuracy_score\n",
    "from sklearn.metrics import accuracy_score\n",
    "\n",
    "accuracy_score(y_test,y_pred)\n",
    "#0.8083333333333333"
   ]
  },
  {
   "cell_type": "markdown",
   "metadata": {},
   "source": [
    "## Metricas de la matriz de confusión\n",
    "\n",
    "El informe_de_clasificación ofrece un informe más completo del rendimiento del modelo.\n",
    "\n"
   ]
  },
  {
   "cell_type": "code",
   "execution_count": 41,
   "metadata": {},
   "outputs": [
    {
     "name": "stdout",
     "output_type": "stream",
     "text": [
      "                   precision    recall  f1-score   support\n",
      "\n",
      "will NOT PURCHASE       0.82      0.88      0.85        72\n",
      "    will PURCHASE       0.79      0.71      0.75        48\n",
      "\n",
      "         accuracy                           0.81       120\n",
      "        macro avg       0.80      0.79      0.80       120\n",
      "     weighted avg       0.81      0.81      0.81       120\n",
      "\n"
     ]
    }
   ],
   "source": [
    "target_names = ['will NOT PURCHASE', 'will PURCHASE']\n",
    "print(classification_report(y_test, y_pred,target_names=target_names))"
   ]
  },
  {
   "cell_type": "code",
   "execution_count": 83,
   "metadata": {},
   "outputs": [
    {
     "name": "stdout",
     "output_type": "stream",
     "text": [
      "Precisión del modelo: 1.00\n",
      "Matriz de confusión:\n",
      "[[19  0]\n",
      " [ 0 11]]\n",
      "Probabilidades de los odds:\n",
      "[1.29536715e-01 1.88093216e-05 9.97114289e-01 2.32003046e-01\n",
      " 2.96628016e-01 3.55784362e-05 3.76014071e-02 9.27205852e-01\n",
      " 4.67760267e-01 5.27469202e-02 7.63477911e-01 1.57461218e-05\n",
      " 1.12238172e-05 1.58685176e-05 1.27029723e-05 2.54841269e-01\n",
      " 9.59291311e-01 4.66356877e-02 1.32977214e-01 9.59505212e-01\n",
      " 2.19745071e-05 5.87325118e-01 3.73807791e-05 9.41832631e-01\n",
      " 9.10472927e-01 9.41721533e-01 9.17704457e-01 9.69040594e-01\n",
      " 3.37189144e-05 2.59824077e-05]\n"
     ]
    }
   ],
   "source": [
    "# Importa las bibliotecas necesarias\n",
    "import numpy as np\n",
    "import pandas as pd\n",
    "from sklearn.datasets import load_iris\n",
    "from sklearn.model_selection import train_test_split\n",
    "from sklearn.preprocessing import StandardScaler\n",
    "from sklearn.linear_model import LogisticRegression\n",
    "from sklearn.metrics import accuracy_score, confusion_matrix\n",
    "\n",
    "# Carga el conjunto de datos Iris\n",
    "data = load_iris()\n",
    "X = data.data\n",
    "y = (data.target == 2).astype(int)  # Convertimos el problema en una clasificación binaria (Iris-Virginica o no)\n",
    "\n",
    "# Dividir el conjunto de datos en entrenamiento y prueba\n",
    "X_train, X_test, y_train, y_test = train_test_split(X, y, test_size=0.2, random_state=42)\n",
    "\n",
    "# Escalar las características\n",
    "scaler = StandardScaler()\n",
    "X_train = scaler.fit_transform(X_train)\n",
    "X_test = scaler.transform(X_test)\n",
    "\n",
    "# Crear el modelo de regresión logística\n",
    "logistic_model = LogisticRegression()\n",
    "\n",
    "# Entrenar el modelo\n",
    "logistic_model.fit(X_train, y_train)\n",
    "\n",
    "# Realizar predicciones en el conjunto de prueba\n",
    "y_pred = logistic_model.predict(X_test)\n",
    "\n",
    "# Calcular la precisión del modelo\n",
    "accuracy = accuracy_score(y_test, y_pred)\n",
    "print(f\"Precisión del modelo: {accuracy:.2f}\")\n",
    "\n",
    "# Calcular la matriz de confusión\n",
    "conf_matrix = confusion_matrix(y_test, y_pred)\n",
    "print(\"Matriz de confusión:\")\n",
    "print(conf_matrix)\n",
    "\n",
    "# Calcular las probabilidades de los odds\n",
    "probs = logistic_model.predict_proba(X_test)[:, 1]  # Probabilidades de ser clase 1 (Iris-Virginica)\n",
    "print(\"Probabilidades de los odds:\")\n",
    "print(probs)"
   ]
  },
  {
   "cell_type": "code",
   "execution_count": 84,
   "metadata": {},
   "outputs": [
    {
     "name": "stdout",
     "output_type": "stream",
     "text": [
      "Coeficientes del modelo:\n",
      "[[ 0.17209228 -0.65550045  2.32662448  2.85231534]]\n",
      "Intercepción del modelo:\n",
      "[-3.71076821]\n",
      "Probabilidades de los odds para una nueva observación:\n",
      "[1.17924112e-05]\n"
     ]
    }
   ],
   "source": [
    "# Obtener los coeficientes y la intercepción del modelo\n",
    "coeficientes = logistic_model.coef_\n",
    "intercepcion = logistic_model.intercept_\n",
    "\n",
    "# Imprimir los coeficientes y la intercepción\n",
    "print(\"Coeficientes del modelo:\")\n",
    "print(coeficientes)\n",
    "print(\"Intercepción del modelo:\")\n",
    "print(intercepcion)\n",
    "\n",
    "# También puedes calcular las probabilidades de los odds manualmente\n",
    "# Para una nueva observación 'X_new', puedes usar el método 'predict_proba'\n",
    "X_new = np.array([[5.1, 3.5, 1.4, 0.2]])  # Reemplaza esto con tus propias características\n",
    "X_new_scaled = scaler.transform(X_new)\n",
    "probabilidades = logistic_model.predict_proba(X_new_scaled)[:, 1]  # Probabilidad de ser clase 1 (Iris-Virginica)\n",
    "print(\"Probabilidades de los odds para una nueva observación:\")\n",
    "print(probabilidades)\n"
   ]
  }
 ],
 "metadata": {
  "kernelspec": {
   "display_name": "Python 3",
   "language": "python",
   "name": "python3"
  },
  "language_info": {
   "codemirror_mode": {
    "name": "ipython",
    "version": 3
   },
   "file_extension": ".py",
   "mimetype": "text/x-python",
   "name": "python",
   "nbconvert_exporter": "python",
   "pygments_lexer": "ipython3",
   "version": "3.11.7"
  },
  "orig_nbformat": 4
 },
 "nbformat": 4,
 "nbformat_minor": 2
}
